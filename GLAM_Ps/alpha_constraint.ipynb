{
 "cells": [
  {
   "cell_type": "markdown",
   "id": "50d0c8a6-d363-4fa4-92ca-555b03ae2cc3",
   "metadata": {
    "tags": []
   },
   "source": [
    "# Check alpha constraints for Powerspectrum"
   ]
  },
  {
   "cell_type": "markdown",
   "id": "70adc573-71b3-4ffe-a099-f318687656c4",
   "metadata": {},
   "source": [
    "### Import all modules"
   ]
  },
  {
   "cell_type": "code",
   "execution_count": 1,
   "id": "472a6fef-ca75-4622-8f98-da12dbf381c9",
   "metadata": {},
   "outputs": [],
   "source": [
    "import numpy as np\n",
    "from numpy.linalg import inv\n",
    "import matplotlib.pyplot as plt\n",
    "from scipy.interpolate import RegularGridInterpolator\n",
    "import scipy.interpolate as interpolate\n",
    "\n",
    "import pandas as pd\n",
    "\n",
    "import scipy.stats\n",
    "from ast import literal_eval"
   ]
  },
  {
   "cell_type": "markdown",
   "id": "71832379-112d-4ffa-b799-8297092b0dab",
   "metadata": {},
   "source": [
    "## Load data"
   ]
  },
  {
   "cell_type": "code",
   "execution_count": 2,
   "id": "e77c220c-3b09-4950-ac70-957c88145e44",
   "metadata": {},
   "outputs": [],
   "source": [
    "data=np.load(\"pk_z0.50.npz\")"
   ]
  },
  {
   "cell_type": "code",
   "execution_count": 3,
   "id": "74e2e801-56b8-4541-83cd-8073e1d49211",
   "metadata": {},
   "outputs": [
    {
     "data": {
      "text/plain": [
       "['k', 'pkrm', 'pkr']"
      ]
     },
     "execution_count": 3,
     "metadata": {},
     "output_type": "execute_result"
    }
   ],
   "source": [
    "data.files"
   ]
  },
  {
   "cell_type": "code",
   "execution_count": 4,
   "id": "273efac6-6a1a-4321-8f9d-d9a40fb756a9",
   "metadata": {},
   "outputs": [],
   "source": [
    "k,pkrm,pr= data[\"k\"],data[\"pkrm\"].T[0],data[\"pkr\"]"
   ]
  },
  {
   "cell_type": "markdown",
   "id": "c5ead196-e072-43ef-81c1-34d142dcca20",
   "metadata": {},
   "source": [
    "## Interpolation"
   ]
  },
  {
   "cell_type": "markdown",
   "id": "33199232-eef0-4760-b42f-5b763fb2d98e",
   "metadata": {},
   "source": [
    "#### 1. scipy.interpolate"
   ]
  },
  {
   "cell_type": "code",
   "execution_count": 5,
   "id": "699aa01d-a495-4247-8a3f-3c9e3b7d5e7c",
   "metadata": {},
   "outputs": [
    {
     "data": {
      "text/plain": [
       "[<matplotlib.lines.Line2D at 0x155517ce2130>]"
      ]
     },
     "execution_count": 5,
     "metadata": {},
     "output_type": "execute_result"
    },
    {
     "data": {
      "image/png": "[encoded data removed]",
      "text/plain": [
       "<Figure size 432x288 with 1 Axes>"
      ]
     },
     "metadata": {
      "needs_background": "light"
     },
     "output_type": "display_data"
    }
   ],
   "source": [
    "ff=interpolate.interp1d(k,pkrm)\n",
    "plt.plot(k,pkrm)\n",
    "plt.plot(k,ff(k))"
   ]
  },
  {
   "cell_type": "markdown",
   "id": "365a3bcf-b7b2-491a-a629-5536ca4d11ce",
   "metadata": {},
   "source": [
    "### Masking at kmin,kmax"
   ]
  },
  {
   "cell_type": "code",
   "execution_count": 6,
   "id": "6c6e9512-4639-461d-a605-ddf6dc00e4e0",
   "metadata": {},
   "outputs": [],
   "source": [
    "kmin=0.005\n",
    "kmax=0.28\n",
    "def cutslice(kmin,kmax):\n",
    "    is_good = np.ones(k.shape[0], '?')\n",
    "    is_good &= (k > kmin) & (k < kmax)\n",
    "    kg = k[is_good]\n",
    "    pg = pkrm[is_good]\n",
    "    nbins, nmocks = pr[is_good, :].shape\n",
    "    hartlapf = (nmocks-1.0)/(nmocks-nbins-2.0)\n",
    "    print(f'kmax={kmax}, kmin={kmin}, nbins={nbins}, nmocks={nmocks}, hf = {hartlapf}')\n",
    "    cov = np.cov(pr[is_good, :], rowvar=True)*hartlapf/ nmocks\n",
    "    icov = inv(cov)\n",
    "    \n",
    "    return kg,pg,cov,hartlapf"
   ]
  },
  {
   "cell_type": "code",
   "execution_count": 7,
   "id": "3bcfd5e8-c30c-45d6-893e-bb93e07495bb",
   "metadata": {},
   "outputs": [
    {
     "name": "stdout",
     "output_type": "stream",
     "text": [
      "kmax=0.085, kmin=0.005, nbins=8, nmocks=922, hf = 1.0098684210526316\n"
     ]
    }
   ],
   "source": [
    "kg,pg,cov,_=cutslice(kmin,0.085)"
   ]
  },
  {
   "cell_type": "code",
   "execution_count": 8,
   "id": "da2ec3e8-539e-4feb-83ff-1843a4c46c1f",
   "metadata": {},
   "outputs": [
    {
     "name": "stdout",
     "output_type": "stream",
     "text": [
      "kmax=0.2950000000000001, kmin=0.005, nbins=28, nmocks=922, hf = 1.0325112107623318\n",
      "kmax=0.2850000000000001, kmin=0.005, nbins=27, nmocks=922, hf = 1.0313549832026876\n",
      "kmax=0.2750000000000001, kmin=0.005, nbins=26, nmocks=922, hf = 1.0302013422818792\n",
      "kmax=0.26500000000000007, kmin=0.005, nbins=25, nmocks=922, hf = 1.029050279329609\n",
      "kmax=0.25500000000000006, kmin=0.005, nbins=24, nmocks=922, hf = 1.0279017857142858\n",
      "kmax=0.24500000000000008, kmin=0.005, nbins=23, nmocks=922, hf = 1.0267558528428093\n",
      "kmax=0.23500000000000007, kmin=0.005, nbins=22, nmocks=922, hf = 1.0256124721603563\n",
      "kmax=0.22500000000000006, kmin=0.005, nbins=21, nmocks=922, hf = 1.0244716351501668\n",
      "kmax=0.21500000000000005, kmin=0.005, nbins=20, nmocks=922, hf = 1.0233333333333334\n",
      "kmax=0.20500000000000004, kmin=0.005, nbins=19, nmocks=922, hf = 1.0221975582685905\n",
      "kmax=0.19500000000000003, kmin=0.005, nbins=18, nmocks=922, hf = 1.0210643015521064\n",
      "kmax=0.18500000000000003, kmin=0.005, nbins=17, nmocks=922, hf = 1.0199335548172757\n",
      "kmax=0.17500000000000002, kmin=0.005, nbins=16, nmocks=922, hf = 1.0188053097345133\n",
      "kmax=0.165, kmin=0.005, nbins=15, nmocks=922, hf = 1.0176795580110498\n",
      "kmax=0.155, kmin=0.005, nbins=14, nmocks=922, hf = 1.0165562913907285\n",
      "kmax=0.145, kmin=0.005, nbins=13, nmocks=922, hf = 1.0154355016538037\n",
      "kmax=0.13499999999999998, kmin=0.005, nbins=12, nmocks=922, hf = 1.0143171806167401\n",
      "kmax=0.12499999999999997, kmin=0.005, nbins=11, nmocks=922, hf = 1.0132013201320131\n",
      "kmax=0.11499999999999998, kmin=0.005, nbins=10, nmocks=922, hf = 1.012087912087912\n",
      "kmax=0.10499999999999998, kmin=0.005, nbins=9, nmocks=922, hf = 1.0109769484083424\n",
      "kmax=0.09499999999999999, kmin=0.005, nbins=8, nmocks=922, hf = 1.0098684210526316\n",
      "kmax=0.08499999999999999, kmin=0.005, nbins=7, nmocks=922, hf = 1.0087623220153341\n",
      "kmax=0.075, kmin=0.005, nbins=6, nmocks=922, hf = 1.0076586433260395\n",
      "kmax=0.065, kmin=0.005, nbins=5, nmocks=922, hf = 1.0065573770491802\n",
      "kmax=0.05500000000000001, kmin=0.005, nbins=4, nmocks=922, hf = 1.005458515283843\n",
      "kmax=0.045000000000000005, kmin=0.005, nbins=3, nmocks=922, hf = 1.0043620501635768\n",
      "kmax=0.035, kmin=0.005, nbins=2, nmocks=922, hf = 1.0032679738562091\n",
      "kmax=0.025, kmin=0.005, nbins=1, nmocks=922, hf = 1.002176278563656\n"
     ]
    },
    {
     "ename": "LinAlgError",
     "evalue": "0-dimensional array given. Array must be at least two-dimensional",
     "output_type": "error",
     "traceback": [
      "\u001b[0;31m---------------------------------------------------------------------------\u001b[0m",
      "\u001b[0;31mLinAlgError\u001b[0m                               Traceback (most recent call last)",
      "\u001b[0;32m/tmp/ipykernel_50973/3656994805.py\u001b[0m in \u001b[0;36m<module>\u001b[0;34m\u001b[0m\n\u001b[1;32m      1\u001b[0m \u001b[0mhf\u001b[0m\u001b[0;34m=\u001b[0m\u001b[0;34m[\u001b[0m\u001b[0;34m]\u001b[0m\u001b[0;34m\u001b[0m\u001b[0;34m\u001b[0m\u001b[0m\n\u001b[1;32m      2\u001b[0m \u001b[0;32mfor\u001b[0m \u001b[0mj\u001b[0m \u001b[0;32min\u001b[0m \u001b[0mreversed\u001b[0m\u001b[0;34m(\u001b[0m\u001b[0mk\u001b[0m\u001b[0;34m)\u001b[0m\u001b[0;34m:\u001b[0m\u001b[0;34m\u001b[0m\u001b[0;34m\u001b[0m\u001b[0m\n\u001b[0;32m----> 3\u001b[0;31m     \u001b[0m_\u001b[0m\u001b[0;34m,\u001b[0m\u001b[0m_\u001b[0m\u001b[0;34m,\u001b[0m\u001b[0m_\u001b[0m\u001b[0;34m,\u001b[0m\u001b[0mh\u001b[0m\u001b[0;34m=\u001b[0m\u001b[0mcutslice\u001b[0m\u001b[0;34m(\u001b[0m\u001b[0;36m0.005\u001b[0m\u001b[0;34m,\u001b[0m\u001b[0mj\u001b[0m\u001b[0;34m)\u001b[0m\u001b[0;34m\u001b[0m\u001b[0;34m\u001b[0m\u001b[0m\n\u001b[0m\u001b[1;32m      4\u001b[0m     \u001b[0mhf\u001b[0m\u001b[0;34m.\u001b[0m\u001b[0mappend\u001b[0m\u001b[0;34m(\u001b[0m\u001b[0mh\u001b[0m\u001b[0;34m)\u001b[0m\u001b[0;34m\u001b[0m\u001b[0;34m\u001b[0m\u001b[0m\n",
      "\u001b[0;32m/tmp/ipykernel_50973/2631787009.py\u001b[0m in \u001b[0;36mcutslice\u001b[0;34m(kmin, kmax)\u001b[0m\n\u001b[1;32m     10\u001b[0m     \u001b[0mprint\u001b[0m\u001b[0;34m(\u001b[0m\u001b[0;34mf'kmax={kmax}, kmin={kmin}, nbins={nbins}, nmocks={nmocks}, hf = {hartlapf}'\u001b[0m\u001b[0;34m)\u001b[0m\u001b[0;34m\u001b[0m\u001b[0;34m\u001b[0m\u001b[0m\n\u001b[1;32m     11\u001b[0m     \u001b[0mcov\u001b[0m \u001b[0;34m=\u001b[0m \u001b[0mnp\u001b[0m\u001b[0;34m.\u001b[0m\u001b[0mcov\u001b[0m\u001b[0;34m(\u001b[0m\u001b[0mpr\u001b[0m\u001b[0;34m[\u001b[0m\u001b[0mis_good\u001b[0m\u001b[0;34m,\u001b[0m \u001b[0;34m:\u001b[0m\u001b[0;34m]\u001b[0m\u001b[0;34m,\u001b[0m \u001b[0mrowvar\u001b[0m\u001b[0;34m=\u001b[0m\u001b[0;32mTrue\u001b[0m\u001b[0;34m)\u001b[0m\u001b[0;34m*\u001b[0m\u001b[0mhartlapf\u001b[0m\u001b[0;34m/\u001b[0m \u001b[0mnmocks\u001b[0m\u001b[0;34m\u001b[0m\u001b[0;34m\u001b[0m\u001b[0m\n\u001b[0;32m---> 12\u001b[0;31m     \u001b[0micov\u001b[0m \u001b[0;34m=\u001b[0m \u001b[0minv\u001b[0m\u001b[0;34m(\u001b[0m\u001b[0mcov\u001b[0m\u001b[0;34m)\u001b[0m\u001b[0;34m\u001b[0m\u001b[0;34m\u001b[0m\u001b[0m\n\u001b[0m\u001b[1;32m     13\u001b[0m \u001b[0;34m\u001b[0m\u001b[0m\n\u001b[1;32m     14\u001b[0m     \u001b[0;32mreturn\u001b[0m \u001b[0mkg\u001b[0m\u001b[0;34m,\u001b[0m\u001b[0mpg\u001b[0m\u001b[0;34m,\u001b[0m\u001b[0mcov\u001b[0m\u001b[0;34m,\u001b[0m\u001b[0mhartlapf\u001b[0m\u001b[0;34m\u001b[0m\u001b[0;34m\u001b[0m\u001b[0m\n",
      "\u001b[0;32m<__array_function__ internals>\u001b[0m in \u001b[0;36minv\u001b[0;34m(*args, **kwargs)\u001b[0m\n",
      "\u001b[0;32m~/anaconda3/envs/ml/lib/python3.9/site-packages/numpy/linalg/linalg.py\u001b[0m in \u001b[0;36minv\u001b[0;34m(a)\u001b[0m\n\u001b[1;32m    537\u001b[0m     \"\"\"\n\u001b[1;32m    538\u001b[0m     \u001b[0ma\u001b[0m\u001b[0;34m,\u001b[0m \u001b[0mwrap\u001b[0m \u001b[0;34m=\u001b[0m \u001b[0m_makearray\u001b[0m\u001b[0;34m(\u001b[0m\u001b[0ma\u001b[0m\u001b[0;34m)\u001b[0m\u001b[0;34m\u001b[0m\u001b[0;34m\u001b[0m\u001b[0m\n\u001b[0;32m--> 539\u001b[0;31m     \u001b[0m_assert_stacked_2d\u001b[0m\u001b[0;34m(\u001b[0m\u001b[0ma\u001b[0m\u001b[0;34m)\u001b[0m\u001b[0;34m\u001b[0m\u001b[0;34m\u001b[0m\u001b[0m\n\u001b[0m\u001b[1;32m    540\u001b[0m     \u001b[0m_assert_stacked_square\u001b[0m\u001b[0;34m(\u001b[0m\u001b[0ma\u001b[0m\u001b[0;34m)\u001b[0m\u001b[0;34m\u001b[0m\u001b[0;34m\u001b[0m\u001b[0m\n\u001b[1;32m    541\u001b[0m     \u001b[0mt\u001b[0m\u001b[0;34m,\u001b[0m \u001b[0mresult_t\u001b[0m \u001b[0;34m=\u001b[0m \u001b[0m_commonType\u001b[0m\u001b[0;34m(\u001b[0m\u001b[0ma\u001b[0m\u001b[0;34m)\u001b[0m\u001b[0;34m\u001b[0m\u001b[0;34m\u001b[0m\u001b[0m\n",
      "\u001b[0;32m~/anaconda3/envs/ml/lib/python3.9/site-packages/numpy/linalg/linalg.py\u001b[0m in \u001b[0;36m_assert_stacked_2d\u001b[0;34m(*arrays)\u001b[0m\n\u001b[1;32m    194\u001b[0m     \u001b[0;32mfor\u001b[0m \u001b[0ma\u001b[0m \u001b[0;32min\u001b[0m \u001b[0marrays\u001b[0m\u001b[0;34m:\u001b[0m\u001b[0;34m\u001b[0m\u001b[0;34m\u001b[0m\u001b[0m\n\u001b[1;32m    195\u001b[0m         \u001b[0;32mif\u001b[0m \u001b[0ma\u001b[0m\u001b[0;34m.\u001b[0m\u001b[0mndim\u001b[0m \u001b[0;34m<\u001b[0m \u001b[0;36m2\u001b[0m\u001b[0;34m:\u001b[0m\u001b[0;34m\u001b[0m\u001b[0;34m\u001b[0m\u001b[0m\n\u001b[0;32m--> 196\u001b[0;31m             raise LinAlgError('%d-dimensional array given. Array must be '\n\u001b[0m\u001b[1;32m    197\u001b[0m                     'at least two-dimensional' % a.ndim)\n\u001b[1;32m    198\u001b[0m \u001b[0;34m\u001b[0m\u001b[0m\n",
      "\u001b[0;31mLinAlgError\u001b[0m: 0-dimensional array given. Array must be at least two-dimensional"
     ]
    }
   ],
   "source": [
    "hf=[]\n",
    "for j in reversed(k):\n",
    "    _,_,_,h=cutslice(0.005,j)\n",
    "    hf.append(h)"
   ]
  },
  {
   "cell_type": "markdown",
   "id": "6bf82947-e0a2-4f21-ab2f-f39955dcb073",
   "metadata": {},
   "source": [
    "## Chi-square test"
   ]
  },
  {
   "cell_type": "code",
   "execution_count": 15,
   "id": "009c4c52-1671-49c9-b311-8e243471fcb5",
   "metadata": {},
   "outputs": [],
   "source": [
    "def chisq(obs, exp, cov):\n",
    "    delta=np.abs(obs-exp)\n",
    "    cov_inv=inv(cov)\n",
    "    return delta.dot(cov_inv.dot(delta))"
   ]
  },
  {
   "cell_type": "code",
   "execution_count": 16,
   "id": "e9dcbe49-2e1f-4c37-b0fd-c0bf1614f775",
   "metadata": {},
   "outputs": [],
   "source": [
    "alp=np.linspace(0.98,1.02,2000)\n",
    "\n",
    "def chisq_alp(k,alp,cov):\n",
    "    error=[]\n",
    "    obs=ff(k)\n",
    "    for i in alp:\n",
    "        exp=ff(k*i)\n",
    "        error.append(np.abs(chisq(obs, exp, cov)))\n",
    "    return error\n",
    "    "
   ]
  },
  {
   "cell_type": "code",
   "execution_count": 17,
   "id": "28ba6404-8fed-4bc7-94c8-7d6a50783e96",
   "metadata": {},
   "outputs": [],
   "source": [
    "error=chisq_alp(kg,alp,cov)"
   ]
  },
  {
   "cell_type": "code",
   "execution_count": 18,
   "id": "740373f5-da7a-45f3-ae42-fb7bbef9c55d",
   "metadata": {},
   "outputs": [],
   "source": [
    "np.savez('pk_error.npz', alp=alp, error=error)"
   ]
  },
  {
   "cell_type": "code",
   "execution_count": 19,
   "id": "47c9543b-2a32-4f00-b9c8-3e70602a1e2e",
   "metadata": {},
   "outputs": [
    {
     "data": {
      "text/plain": [
       "<matplotlib.legend.Legend at 0x1555161803d0>"
      ]
     },
     "execution_count": 19,
     "metadata": {},
     "output_type": "execute_result"
    },
    {
     "data": {
      "image/png": "[encoded data removed]",
      "text/plain": [
       "<Figure size 432x288 with 1 Axes>"
      ]
     },
     "metadata": {
      "needs_background": "light"
     },
     "output_type": "display_data"
    }
   ],
   "source": [
    "plt.plot(alp,error,\".\",label=\"z0.50\")\n",
    "#plt.xlim(0.995,1.005)\n",
    "#plt.ylim(-0.1,4)\n",
    "plt.xlabel(\"alpha\")\n",
    "plt.ylabel(\"chisq\")\n",
    "plt.legend()\n",
    "#plt.savefig(\"chsq.png\")"
   ]
  },
  {
   "cell_type": "markdown",
   "id": "61384f3b-1daa-468a-86c5-cd1205fc29b4",
   "metadata": {},
   "source": [
    "### 2. sigma_alpha vs kmax"
   ]
  },
  {
   "cell_type": "code",
   "execution_count": 38,
   "id": "e48710dd-aceb-42fe-b9a6-6256e51d34ea",
   "metadata": {},
   "outputs": [
    {
     "name": "stdout",
     "output_type": "stream",
     "text": [
      "kmax=0.19500000000000003, kmin=0.005, nbins=18, nmocks=922, hf = 1.0210643015521064\n",
      "0.19500000000000003 1.589124750528288e-06\n",
      "kmax=0.18500000000000003, kmin=0.005, nbins=17, nmocks=922, hf = 1.0199335548172757\n",
      "0.18500000000000003 1.5394095121525492e-06\n",
      "kmax=0.17500000000000002, kmin=0.005, nbins=16, nmocks=922, hf = 1.0188053097345133\n",
      "0.17500000000000002 1.2289997167370881e-06\n",
      "kmax=0.165, kmin=0.005, nbins=15, nmocks=922, hf = 1.0176795580110498\n",
      "0.165 1.106088201523104e-06\n",
      "kmax=0.155, kmin=0.005, nbins=14, nmocks=922, hf = 1.0165562913907285\n",
      "0.155 1.0544221229962052e-06\n",
      "kmax=0.145, kmin=0.005, nbins=13, nmocks=922, hf = 1.0154355016538037\n",
      "0.145 7.529376064258783e-07\n",
      "kmax=0.13499999999999998, kmin=0.005, nbins=12, nmocks=922, hf = 1.0143171806167401\n",
      "0.13499999999999998 5.88438579608792e-07\n",
      "kmax=0.12499999999999997, kmin=0.005, nbins=11, nmocks=922, hf = 1.0132013201320131\n",
      "0.12499999999999997 4.917662023559357e-07\n",
      "kmax=0.11499999999999998, kmin=0.005, nbins=10, nmocks=922, hf = 1.012087912087912\n",
      "0.11499999999999998 3.1571196654082296e-07\n",
      "kmax=0.10499999999999998, kmin=0.005, nbins=9, nmocks=922, hf = 1.0109769484083424\n",
      "0.10499999999999998 1.7743561833129615e-07\n",
      "kmax=0.09499999999999999, kmin=0.005, nbins=8, nmocks=922, hf = 1.0098684210526316\n",
      "0.09499999999999999 1.4297920803595714e-07\n",
      "kmax=0.08499999999999999, kmin=0.005, nbins=7, nmocks=922, hf = 1.0087623220153341\n",
      "0.08499999999999999 5.968544610575631e-08\n",
      "kmax=0.075, kmin=0.005, nbins=6, nmocks=922, hf = 1.0076586433260395\n",
      "0.075 3.4137887009726795e-08\n",
      "kmax=0.065, kmin=0.005, nbins=5, nmocks=922, hf = 1.0065573770491802\n",
      "0.065 1.1535137169164958e-08\n",
      "kmax=0.05500000000000001, kmin=0.005, nbins=4, nmocks=922, hf = 1.005458515283843\n",
      "0.05500000000000001 3.89609723872869e-09\n"
     ]
    }
   ],
   "source": [
    "alp=np.linspace(0.985,1.015,20000)\n",
    "\n",
    "kmin=0.005\n",
    "kmax_min=0.05\n",
    "kmax_max=0.2\n",
    "all_errors=[]\n",
    "all_kmax=[]\n",
    "for kmax in reversed(np.unique(k)):\n",
    "    if kmax>kmax_min and kmax<kmax_max:\n",
    "        ki,pki,covi,_=cutslice(kmin,kmax)\n",
    "        errori=chisq_alp(ki,alp,covi)\n",
    "        all_errors.append(errori)\n",
    "        all_kmax.append(kmax)\n",
    "        print(kmax,np.min(errori))"
   ]
  },
  {
   "cell_type": "code",
   "execution_count": 39,
   "id": "ca00f381-5279-450c-9bf5-6fd597bf29a8",
   "metadata": {},
   "outputs": [
    {
     "data": {
      "text/plain": [
       "Text(0.5, 0, 'alpha')"
      ]
     },
     "execution_count": 39,
     "metadata": {},
     "output_type": "execute_result"
    },
    {
     "data": {
      "image/png": "[encoded data removed]",
      "text/plain": [
       "<Figure size 432x288 with 1 Axes>"
      ]
     },
     "metadata": {
      "needs_background": "light"
     },
     "output_type": "display_data"
    }
   ],
   "source": [
    "alpha = np.geomspace(1,0.05,len(all_errors))\n",
    "for i,error in enumerate(all_errors):\n",
    "    plt.plot(alp,error,alpha=alpha[i],color = 'b')\n",
    "plt.ylabel(\"chisq\")\n",
    "plt.xlabel(\"alpha\")\n",
    "#plt.ylim(-10,3000)\n",
    "#plt.xlim(0.98,1.02)\n",
    "#plt.savefig(\"all_chisq.png\")"
   ]
  },
  {
   "cell_type": "markdown",
   "id": "0dd67d67-6b32-4c65-b3f6-daee8122036d",
   "metadata": {},
   "source": [
    "### 1sigma constriant vs kmax"
   ]
  },
  {
   "cell_type": "code",
   "execution_count": 40,
   "id": "358efbe2-81d9-4d89-b2c9-d9541f38f90f",
   "metadata": {},
   "outputs": [],
   "source": [
    "def find_1sigma(error,llim,rlim):\n",
    "    least=np.min(error)\n",
    "    ffe=interpolate.interp1d(alp,error,fill_value=\"extrapolate\")\n",
    "    alp2=np.linspace(0.985,1.015,2000000)\n",
    "    print(min(ffe(alp2)))\n",
    "    ind=np.where((ffe(alp2)<1+least+rlim) & (ffe(alp2)>1+least-llim))\n",
    "    print(ind)\n",
    "    left=ind[0][0]\n",
    "    right=ind[0][-1]\n",
    "    print(alp2[left],alp2[right])\n",
    "    return alp2[right]-alp2[left]"
   ]
  },
  {
   "cell_type": "code",
   "execution_count": 41,
   "id": "f04550de-e619-44ad-82c5-10108135f029",
   "metadata": {},
   "outputs": [
    {
     "name": "stdout",
     "output_type": "stream",
     "text": [
      "1.5910332191711134e-06\n",
      "(array([ 964363,  964364,  964365,  964366, 1039663, 1039664, 1039665,\n",
      "       1039666]),)\n",
      "0.9994654522327261 1.0005949977974988\n",
      "1.5400033537996803e-06\n",
      "(array([ 961161,  961162,  961163, 1040300, 1040301]),)\n",
      "0.9994174222087111 1.0006045228022613\n",
      "1.23048269922449e-06\n",
      "(array([ 959497,  959498, 1045103, 1045104]),)\n",
      "0.999392462196231 1.0006765678382838\n",
      "1.1079411950266795e-06\n",
      "(array([ 958826,  958827, 1047543, 1047544]),)\n",
      "0.9993823971911986 1.000713167856584\n",
      "1.0547023563276435e-06\n",
      "(array([ 952543,  952544, 1048694, 1048695]),)\n",
      "0.9992881521440761 1.0007304328652165\n",
      "7.537742855772184e-07\n",
      "(array([ 947853, 1057624, 1057625]),)\n",
      "0.999217802108901 1.0008643829321915\n",
      "5.899801527441472e-07\n",
      "(array([ 947152,  947153, 1065183, 1065184]),)\n",
      "0.9992072871036435 1.0009777679888838\n",
      "4.921595485036376e-07\n",
      "(array([ 928695,  928696, 1066226, 1066227]),)\n",
      "0.9989304319652159 1.0009934129967064\n",
      "3.1577207784774153e-07\n",
      "(array([ 912648,  912649, 1088990, 1088991]),)\n",
      "0.9986897268448633 1.0013348731674365\n",
      "1.7813210811748457e-07\n",
      "(array([ 911056,  911057, 1118704, 1118705, 1118706]),)\n",
      "0.9986658468329234 1.0017805983902992\n",
      "1.4312772537111956e-07\n",
      "(array([ 867761,  867762, 1120378, 1120379]),)\n",
      "0.9980164215082107 1.0018056934028468\n",
      "5.979816730357567e-08\n",
      "(array([ 795327,  795328,  795329, 1174488, 1174489]),)\n",
      "0.9969299109649554 1.0026173438086718\n",
      "3.4235590663611905e-08\n",
      "(array([ 783987,  783988,  783989, 1270626, 1270627, 1270628, 1270629]),)\n",
      "0.9967598108799054 1.0040594445297222\n",
      "1.1636192742417322e-08\n",
      "(array([ 534432,  534433,  534434,  534435,  534436,  534437, 1281072,\n",
      "       1281073, 1281074, 1281075]),)\n",
      "0.9930164840082419 1.0042161346080671\n",
      "3.896678737211609e-09\n",
      "(array([ 198914,  198915,  198916,  198917,  198918,  198919,  198920,\n",
      "        198921,  198922,  198923, 1789437, 1789438, 1789439, 1789440,\n",
      "       1789441, 1789442, 1789443, 1789444, 1789445, 1789446]),)\n",
      "0.9879837114918557 1.0118417034208516\n"
     ]
    }
   ],
   "source": [
    "sigmaf=[]\n",
    "count=1\n",
    "for i in all_errors:\n",
    "    sigmaf.append(find_1sigma(i,1e-4/count,1e-4/count))\n",
    "    count=count+0.5"
   ]
  },
  {
   "cell_type": "code",
   "execution_count": 29,
   "id": "deff5d19-36f0-4dc9-ba44-bc1660095928",
   "metadata": {},
   "outputs": [
    {
     "data": {
      "text/plain": [
       "15"
      ]
     },
     "execution_count": 29,
     "metadata": {},
     "output_type": "execute_result"
    }
   ],
   "source": [
    "len(sigmaf)"
   ]
  },
  {
   "cell_type": "code",
   "execution_count": 42,
   "id": "7c9ed747-913a-47a7-b802-cbe13850b07f",
   "metadata": {},
   "outputs": [
    {
     "data": {
      "text/plain": [
       "Text(0, 0.5, '1sigma_alpha')"
      ]
     },
     "execution_count": 42,
     "metadata": {},
     "output_type": "execute_result"
    },
    {
     "data": {
      "image/png": "[encoded data removed]",
      "text/plain": [
       "<Figure size 432x288 with 1 Axes>"
      ]
     },
     "metadata": {
      "needs_background": "light"
     },
     "output_type": "display_data"
    }
   ],
   "source": [
    "plt.plot(all_kmax,sigmaf)\n",
    "plt.xlabel(\"kmax\")\n",
    "plt.ylabel(\"1sigma_alpha\")\n",
    "#plt.savefig(\"1sigma_alpha_vs_kmax.png\")"
   ]
  },
  {
   "cell_type": "code",
   "execution_count": 51,
   "id": "8a2a553c-1acc-4d46-ae02-3a653f08b2d0",
   "metadata": {},
   "outputs": [],
   "source": [
    "np.savez('pk_1sigma.npz', kmax=all_kmax, sigmahf=sigmaf,sigma=sigma,hf=hf[10:25])\n"
   ]
  },
  {
   "cell_type": "code",
   "execution_count": 52,
   "id": "a1bef97f-117e-4a4d-90f4-7d216c03dd72",
   "metadata": {},
   "outputs": [],
   "source": [
    "data = np.load('pk_1sigma.npz')"
   ]
  },
  {
   "cell_type": "code",
   "execution_count": 53,
   "id": "87433c12-0ae8-4f92-b2b2-2c64afbd8854",
   "metadata": {},
   "outputs": [],
   "source": [
    "df= pd.DataFrame.from_dict({item: data[item] for item in data.files}, orient='index')"
   ]
  },
  {
   "cell_type": "code",
   "execution_count": 54,
   "id": "3f8dce7e-8416-4d1c-96a8-45af198a1d64",
   "metadata": {},
   "outputs": [
    {
     "data": {
      "text/html": [
       "<div>\n",
       "<style scoped>\n",
       "    .dataframe tbody tr th:only-of-type {\n",
       "        vertical-align: middle;\n",
       "    }\n",
       "\n",
       "    .dataframe tbody tr th {\n",
       "        vertical-align: top;\n",
       "    }\n",
       "\n",
       "    .dataframe thead th {\n",
       "        text-align: right;\n",
       "    }\n",
       "</style>\n",
       "<table border=\"1\" class=\"dataframe\">\n",
       "  <thead>\n",
       "    <tr style=\"text-align: right;\">\n",
       "      <th></th>\n",
       "      <th>kmax</th>\n",
       "      <th>sigmahf</th>\n",
       "      <th>sigma</th>\n",
       "      <th>hf</th>\n",
       "    </tr>\n",
       "  </thead>\n",
       "  <tbody>\n",
       "    <tr>\n",
       "      <th>0</th>\n",
       "      <td>0.195</td>\n",
       "      <td>0.001130</td>\n",
       "      <td>0.001118</td>\n",
       "      <td>1.021064</td>\n",
       "    </tr>\n",
       "    <tr>\n",
       "      <th>1</th>\n",
       "      <td>0.185</td>\n",
       "      <td>0.001187</td>\n",
       "      <td>0.001175</td>\n",
       "      <td>1.019934</td>\n",
       "    </tr>\n",
       "    <tr>\n",
       "      <th>2</th>\n",
       "      <td>0.175</td>\n",
       "      <td>0.001284</td>\n",
       "      <td>0.001272</td>\n",
       "      <td>1.018805</td>\n",
       "    </tr>\n",
       "    <tr>\n",
       "      <th>3</th>\n",
       "      <td>0.165</td>\n",
       "      <td>0.001331</td>\n",
       "      <td>0.001319</td>\n",
       "      <td>1.017680</td>\n",
       "    </tr>\n",
       "    <tr>\n",
       "      <th>4</th>\n",
       "      <td>0.155</td>\n",
       "      <td>0.001442</td>\n",
       "      <td>0.001430</td>\n",
       "      <td>1.016556</td>\n",
       "    </tr>\n",
       "    <tr>\n",
       "      <th>5</th>\n",
       "      <td>0.145</td>\n",
       "      <td>0.001647</td>\n",
       "      <td>0.001634</td>\n",
       "      <td>1.015436</td>\n",
       "    </tr>\n",
       "    <tr>\n",
       "      <th>6</th>\n",
       "      <td>0.135</td>\n",
       "      <td>0.001770</td>\n",
       "      <td>0.001758</td>\n",
       "      <td>1.014317</td>\n",
       "    </tr>\n",
       "    <tr>\n",
       "      <th>7</th>\n",
       "      <td>0.125</td>\n",
       "      <td>0.002063</td>\n",
       "      <td>0.002049</td>\n",
       "      <td>1.013201</td>\n",
       "    </tr>\n",
       "    <tr>\n",
       "      <th>8</th>\n",
       "      <td>0.115</td>\n",
       "      <td>0.002645</td>\n",
       "      <td>0.002629</td>\n",
       "      <td>1.012088</td>\n",
       "    </tr>\n",
       "    <tr>\n",
       "      <th>9</th>\n",
       "      <td>0.105</td>\n",
       "      <td>0.003115</td>\n",
       "      <td>0.003098</td>\n",
       "      <td>1.010977</td>\n",
       "    </tr>\n",
       "    <tr>\n",
       "      <th>10</th>\n",
       "      <td>0.095</td>\n",
       "      <td>0.003789</td>\n",
       "      <td>0.003771</td>\n",
       "      <td>1.009868</td>\n",
       "    </tr>\n",
       "    <tr>\n",
       "      <th>11</th>\n",
       "      <td>0.085</td>\n",
       "      <td>0.005687</td>\n",
       "      <td>0.005663</td>\n",
       "      <td>1.008762</td>\n",
       "    </tr>\n",
       "    <tr>\n",
       "      <th>12</th>\n",
       "      <td>0.075</td>\n",
       "      <td>0.007300</td>\n",
       "      <td>0.007272</td>\n",
       "      <td>1.007659</td>\n",
       "    </tr>\n",
       "    <tr>\n",
       "      <th>13</th>\n",
       "      <td>0.065</td>\n",
       "      <td>0.011200</td>\n",
       "      <td>0.011163</td>\n",
       "      <td>1.006557</td>\n",
       "    </tr>\n",
       "    <tr>\n",
       "      <th>14</th>\n",
       "      <td>0.055</td>\n",
       "      <td>0.023858</td>\n",
       "      <td>0.023793</td>\n",
       "      <td>1.005459</td>\n",
       "    </tr>\n",
       "  </tbody>\n",
       "</table>\n",
       "</div>"
      ],
      "text/plain": [
       "     kmax   sigmahf     sigma        hf\n",
       "0   0.195  0.001130  0.001118  1.021064\n",
       "1   0.185  0.001187  0.001175  1.019934\n",
       "2   0.175  0.001284  0.001272  1.018805\n",
       "3   0.165  0.001331  0.001319  1.017680\n",
       "4   0.155  0.001442  0.001430  1.016556\n",
       "5   0.145  0.001647  0.001634  1.015436\n",
       "6   0.135  0.001770  0.001758  1.014317\n",
       "7   0.125  0.002063  0.002049  1.013201\n",
       "8   0.115  0.002645  0.002629  1.012088\n",
       "9   0.105  0.003115  0.003098  1.010977\n",
       "10  0.095  0.003789  0.003771  1.009868\n",
       "11  0.085  0.005687  0.005663  1.008762\n",
       "12  0.075  0.007300  0.007272  1.007659\n",
       "13  0.065  0.011200  0.011163  1.006557\n",
       "14  0.055  0.023858  0.023793  1.005459"
      ]
     },
     "execution_count": 54,
     "metadata": {},
     "output_type": "execute_result"
    }
   ],
   "source": [
    "df.T"
   ]
  },
  {
   "cell_type": "code",
   "execution_count": 56,
   "id": "2baca7bd-ef56-43d8-b7a4-f03c194f7f20",
   "metadata": {},
   "outputs": [
    {
     "data": {
      "text/plain": [
       "array([1.01048013, 1.00992828, 1.00934987, 1.00880106, 1.00824193,\n",
       "       1.00769273, 1.00714194, 1.00658704, 1.00602441, 1.00548136,\n",
       "       1.00492482, 1.00437072, 1.00382228, 1.00327328, 1.00272537])"
      ]
     },
     "execution_count": 56,
     "metadata": {},
     "output_type": "execute_result"
    }
   ],
   "source": [
    "np.array(sigmaf)/np.array(sigma)"
   ]
  },
  {
   "cell_type": "code",
   "execution_count": 61,
   "id": "8df9bdf4-9ceb-4cf1-8bd0-ce5c34234892",
   "metadata": {},
   "outputs": [
    {
     "data": {
      "text/plain": [
       "(0     1.010477\n",
       " 1     1.009918\n",
       " 2     1.009359\n",
       " 3     1.008801\n",
       " 4     1.008244\n",
       " 5     1.007688\n",
       " 6     1.007133\n",
       " 7     1.006579\n",
       " 8     1.006026\n",
       " 9     1.005473\n",
       " 10    1.004922\n",
       " 11    1.004372\n",
       " 12    1.003822\n",
       " 13    1.003273\n",
       " 14    1.002726\n",
       " Name: hf, dtype: float64,\n",
       " array([1.01048013, 1.00992828, 1.00934987, 1.00880106, 1.00824193,\n",
       "        1.00769273, 1.00714194, 1.00658704, 1.00602441, 1.00548136,\n",
       "        1.00492482, 1.00437072, 1.00382228, 1.00327328, 1.00272537]))"
      ]
     },
     "execution_count": 61,
     "metadata": {},
     "output_type": "execute_result"
    }
   ],
   "source": [
    "np.sqrt(df.T[\"hf\"]),np.array(sigmaf)/np.array(sigma)"
   ]
  },
  {
   "cell_type": "code",
   "execution_count": null,
   "id": "02f056c1-ff46-41b7-b118-725839eea701",
   "metadata": {},
   "outputs": [],
   "source": []
  }
 ],
 "metadata": {
  "kernelspec": {
   "display_name": "Python (ml)",
   "language": "python",
   "name": "ml"
  },
  "language_info": {
   "codemirror_mode": {
    "name": "ipython",
    "version": 3
   },
   "file_extension": ".py",
   "mimetype": "text/x-python",
   "name": "python",
   "nbconvert_exporter": "python",
   "pygments_lexer": "ipython3",
   "version": "3.9.7"
  }
 },
 "nbformat": 4,
 "nbformat_minor": 5
}
