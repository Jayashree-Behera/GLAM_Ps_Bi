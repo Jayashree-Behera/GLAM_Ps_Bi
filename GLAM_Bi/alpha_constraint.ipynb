{
 "cells": [
  {
   "cell_type": "markdown",
   "id": "50d0c8a6-d363-4fa4-92ca-555b03ae2cc3",
   "metadata": {},
   "source": [
    "# Check alpha constraints for bispectrum"
   ]
  },
  {
   "cell_type": "markdown",
   "id": "70adc573-71b3-4ffe-a099-f318687656c4",
   "metadata": {},
   "source": [
    "### Import all modules"
   ]
  },
  {
   "cell_type": "code",
   "execution_count": 1,
   "id": "472a6fef-ca75-4622-8f98-da12dbf381c9",
   "metadata": {},
   "outputs": [],
   "source": [
    "import numpy as np\n",
    "import matplotlib.pyplot as plt\n",
    "from itertools import permutations\n",
    "from scipy.interpolate import RegularGridInterpolator\n",
    "from scipy.interpolate import LinearNDInterpolator\n",
    "from scipy.interpolate import interpn\n",
    "import scipy.interpolate as interpolate\n",
    "\n",
    "\n",
    "import pandas as pd\n",
    "\n",
    "import scipy.stats\n",
    "\n",
    "from sklearn.ensemble import RandomForestRegressor\n",
    "from sklearn.metrics import mean_squared_error\n",
    "from sklearn.tree import DecisionTreeRegressor\n",
    "from sklearn.ensemble import AdaBoostRegressor\n",
    "import xgboost as xgb"
   ]
  },
  {
   "cell_type": "markdown",
   "id": "71832379-112d-4ffa-b799-8297092b0dab",
   "metadata": {},
   "source": [
    "## Load data"
   ]
  },
  {
   "cell_type": "code",
   "execution_count": 2,
   "id": "e77c220c-3b09-4950-ac70-957c88145e44",
   "metadata": {},
   "outputs": [],
   "source": [
    "Bk5=np.loadtxt(\"Bkavg_z0.50.DAT\")\n",
    "#Bk5=np.loadtxt(\"Bkavg_z0.73.DAT\")"
   ]
  },
  {
   "cell_type": "code",
   "execution_count": 3,
   "id": "83b0f76d-9151-421e-906b-42e45a9d64d7",
   "metadata": {},
   "outputs": [
    {
     "data": {
      "text/plain": [
       "(2600, 8)"
      ]
     },
     "execution_count": 3,
     "metadata": {},
     "output_type": "execute_result"
    }
   ],
   "source": [
    "#remove all values corresponding to any k<=0.005\n",
    "#Bk5=Bk5[Bk5[:,0]>0.006]\n",
    "#Bk5.shape"
   ]
  },
  {
   "cell_type": "markdown",
   "id": "c5ead196-e072-43ef-81c1-34d142dcca20",
   "metadata": {},
   "source": [
    "## Interpolation"
   ]
  },
  {
   "cell_type": "markdown",
   "id": "33199232-eef0-4760-b42f-5b763fb2d98e",
   "metadata": {},
   "source": [
    "#### 1. scipy.interpolate.RegularGridInterpolator"
   ]
  },
  {
   "cell_type": "code",
   "execution_count": 4,
   "id": "06538bcf-6a6b-4223-bad3-52a766665280",
   "metadata": {},
   "outputs": [],
   "source": [
    "k1=np.unique(Bk5[:,0])\n",
    "k2=np.unique(Bk5[:,1])\n",
    "k3=np.unique(Bk5[:,2])\n",
    "\n",
    "kk1,kk2,kk3=np.meshgrid(k1,k2,k3)\n",
    "\n",
    "tup_Bk5=[tuple(i) for i in Bk5[:,0:3]]"
   ]
  },
  {
   "cell_type": "code",
   "execution_count": 5,
   "id": "663c1352-e69a-467c-a443-a9a3c49da6a5",
   "metadata": {},
   "outputs": [],
   "source": [
    "output = np.empty(shape=(len(k1),len(k2),len(k3)))\n",
    "\n",
    "for i in range(len(k1)):\n",
    "    for j in range(len(k2)):\n",
    "        for k in range(len(k3)):\n",
    "            kkk=[i for i in permutations((kk1[i,j,k],kk2[i,j,k],kk3[i,j,k]))]\n",
    "            if any(set(kkk).intersection(set(tup_Bk5))):\n",
    "                ind=tup_Bk5.index(list(set(kkk).intersection(set(tup_Bk5)))[0])\n",
    "                #print((kk1[i,j,k],kk2[i,j,k],kk3[i,j,k]))\n",
    "                #print(Bk5[ind,0:3])\n",
    "                output[i,j][k]=Bk5[ind,5]\n",
    "            else:\n",
    "                output[i][j][k]=np.nan                \n",
    "#print(output)"
   ]
  },
  {
   "cell_type": "code",
   "execution_count": 6,
   "id": "b016f5dd-aff9-4c3f-92d5-c22713e1ac74",
   "metadata": {},
   "outputs": [],
   "source": [
    "output1=output.flatten()\n",
    "output1=pd.DataFrame(output1)\n",
    "output1=output1.interpolate(method='linear', limit_direction='forward', axis=0)"
   ]
  },
  {
   "cell_type": "code",
   "execution_count": 7,
   "id": "40224a44-0a0a-4bd8-8908-7cfb8152e490",
   "metadata": {},
   "outputs": [],
   "source": [
    "output1=np.array(output1)\n",
    "output1=np.reshape(output1,(len(k1),len(k2),len(k3)))"
   ]
  },
  {
   "cell_type": "code",
   "execution_count": 8,
   "id": "3a54013f-6042-4d4e-9ad3-40255dbc20a7",
   "metadata": {},
   "outputs": [
    {
     "data": {
      "text/plain": [
       "[<matplotlib.lines.Line2D at 0x2aab08941f10>]"
      ]
     },
     "execution_count": 8,
     "metadata": {},
     "output_type": "execute_result"
    },
    {
     "data": {
      "image/png": "[encoded data removed]",
      "text/plain": [
       "<Figure size 432x288 with 1 Axes>"
      ]
     },
     "metadata": {
      "needs_background": "light"
     },
     "output_type": "display_data"
    }
   ],
   "source": [
    "plt.plot(output.flatten(),output1.flatten())"
   ]
  },
  {
   "cell_type": "code",
   "execution_count": 9,
   "id": "699aa01d-a495-4247-8a3f-3c9e3b7d5e7c",
   "metadata": {},
   "outputs": [
    {
     "data": {
      "text/plain": [
       "[<matplotlib.lines.Line2D at 0x2aab0a19abe0>]"
      ]
     },
     "execution_count": 9,
     "metadata": {},
     "output_type": "execute_result"
    },
    {
     "data": {
      "image/png": "[encoded data removed]",
      "text/plain": [
       "<Figure size 432x288 with 1 Axes>"
      ]
     },
     "metadata": {
      "needs_background": "light"
     },
     "output_type": "display_data"
    }
   ],
   "source": [
    "ff=RegularGridInterpolator((k1,k2,k3),output1,method=\"linear\",bounds_error=False,fill_value=None)\n",
    "#ff=LinearNDInterpolator((k1,k2,k3), output)\n",
    "plt.plot(Bk5[:,5])\n",
    "#plt.xlim(0,500)\n",
    "plt.plot(ff((Bk5[:,0],Bk5[:,1],Bk5[:,2])))\n",
    "#plt.xlim(500,550)"
   ]
  },
  {
   "cell_type": "code",
   "execution_count": 10,
   "id": "a2079e7f-74de-4ca0-bfc2-f3a40853befa",
   "metadata": {},
   "outputs": [
    {
     "data": {
      "text/plain": [
       "[<matplotlib.lines.Line2D at 0x2aab0a214490>]"
      ]
     },
     "execution_count": 10,
     "metadata": {},
     "output_type": "execute_result"
    },
    {
     "data": {
      "image/png": "[encoded data removed]",
      "text/plain": [
       "<Figure size 432x288 with 1 Axes>"
      ]
     },
     "metadata": {
      "needs_background": "light"
     },
     "output_type": "display_data"
    }
   ],
   "source": [
    "plt.plot(Bk5[:,5,]/ff((Bk5[:,0],Bk5[:,1],Bk5[:,2])))"
   ]
  },
  {
   "cell_type": "markdown",
   "id": "fdbc3bba-5328-42ee-834b-c2822e7036ff",
   "metadata": {},
   "source": [
    "#### 2. Random Forest"
   ]
  },
  {
   "cell_type": "code",
   "execution_count": 11,
   "id": "706ecf2e-1784-4463-87af-35ba38d38a91",
   "metadata": {},
   "outputs": [],
   "source": [
    "# model = RandomForestRegressor(max_depth=50, n_estimators=100, random_state=0)\n",
    "# model.fit(Bk5[:,0:3], Bk5[:,5])\n",
    "# test=model.predict(Bk5[:,0:3])\n",
    "\n",
    "# mean_squared_error(Bk5[:,5],test,squared = False, multioutput = 'raw_values')"
   ]
  },
  {
   "cell_type": "markdown",
   "id": "267e07f4-6c78-446e-9285-edfa1c4962ce",
   "metadata": {},
   "source": [
    "#### 3. Decision Tree with AdaBoost "
   ]
  },
  {
   "cell_type": "markdown",
   "id": "dd856807-bfef-4625-a767-653a58d2d84b",
   "metadata": {},
   "source": [
    "##### rmse is better but overall fitting isn't. "
   ]
  },
  {
   "cell_type": "code",
   "execution_count": 12,
   "id": "15a892c5-314c-4f4a-8197-7a8fd71f0149",
   "metadata": {},
   "outputs": [],
   "source": [
    "# model= AdaBoostRegressor(DecisionTreeRegressor(max_depth=50), n_estimators=1000, random_state=0)\n",
    "# model.fit(Bk5[:,0:3], Bk5[:,5])\n",
    "# test=model.predict(Bk5[:,0:3])\n",
    "\n",
    "# mean_squared_error(Bk5[:,5],test,squared = False, multioutput = 'raw_values')"
   ]
  },
  {
   "cell_type": "markdown",
   "id": "774feed9-71df-48b9-90ac-01f1cd5c9262",
   "metadata": {},
   "source": [
    "#### 4. XgBoost"
   ]
  },
  {
   "cell_type": "code",
   "execution_count": 13,
   "id": "411b2131-a271-4a42-85a4-b3fbfc8fa623",
   "metadata": {},
   "outputs": [],
   "source": [
    "# model = xgb.XGBRegressor(n_estimators=1000, max_depth=50, eta=0.001, subsample=0.7, colsample_bytree=0.8)\n",
    "# model.fit(Bk5[:,0:3],Bk5[:,5])\n",
    "# test=model.predict(Bk5[:,0:3])\n",
    "\n",
    "# mean_squared_error(Bk5[:,5],test,squared = False, multioutput = 'raw_values')"
   ]
  },
  {
   "cell_type": "code",
   "execution_count": 14,
   "id": "ecd9d58a-78ef-4617-a01b-e40203dbd059",
   "metadata": {},
   "outputs": [],
   "source": [
    "#plt.plot(test/Bk5[:,5])"
   ]
  },
  {
   "cell_type": "markdown",
   "id": "6bf82947-e0a2-4f21-ab2f-f39955dcb073",
   "metadata": {},
   "source": [
    "## Chi-square test"
   ]
  },
  {
   "cell_type": "code",
   "execution_count": 11,
   "id": "009c4c52-1671-49c9-b311-8e243471fcb5",
   "metadata": {},
   "outputs": [],
   "source": [
    "def chisq(obs, exp, var):\n",
    "    return np.sum((obs - exp)**2/var)"
   ]
  },
  {
   "cell_type": "code",
   "execution_count": 12,
   "id": "e9dcbe49-2e1f-4c37-b0fd-c0bf1614f775",
   "metadata": {},
   "outputs": [],
   "source": [
    "alp=np.linspace(0.9,1.1,10000)\n",
    "def chisq_alp(Bk5,alp):\n",
    "    error=[]\n",
    "    obs=ff((Bk5[:,0],Bk5[:,1],Bk5[:,2]))\n",
    "    var=Bk5[:,6]\n",
    "    #obs=model.predict(Bk5[:,0:3])\n",
    "    for i in alp:\n",
    "        exp=ff((Bk5[:,0]*i,Bk5[:,1]*i,Bk5[:,2]*i))\n",
    "        #exp=model.predict(Bk5[:,0:3]*i)\n",
    "        # fig, ax = plt.subplots(nrows=1,ncols=1,figsize=(6,4))\n",
    "        # plt.plot(exp)\n",
    "        for j in range(len(exp)):\n",
    "            if np.isnan(exp[j]):\n",
    "                exp[j]=np.mean(np.concatenate((exp[j-1:j],exp[j+1:j+2])))\n",
    "                #print(obs[j],exp[j])\n",
    "        error.append(np.abs(chisq(obs, exp, var)))\n",
    "        #ans=chisq(obs, exp,var)\n",
    "        #print(i,ans)\n",
    "        \n",
    "    return error"
   ]
  },
  {
   "cell_type": "code",
   "execution_count": 13,
   "id": "069410c6-ab11-47ca-ad4c-bb142dfc9a07",
   "metadata": {},
   "outputs": [
    {
     "name": "stdout",
     "output_type": "stream",
     "text": [
      "8.72691457366162e-05\n",
      "(array([4962, 5054]),)\n",
      "0.9992499249924993 1.0010901090109012\n",
      "1.019789111433445 1.001023075314664\n"
     ]
    }
   ],
   "source": [
    "error=chisq_alp(Bk5,alp)\n",
    "least=np.min(error)\n",
    "print(least)\n",
    "ind=np.where((error<1+least+0.03) & (error>1+least-0.01))\n",
    "print(ind)\n",
    "left=ind[0][0]\n",
    "right=ind[0][1]\n",
    "print(alp[left],alp[right])\n",
    "print(error[left],error[right])"
   ]
  },
  {
   "cell_type": "code",
   "execution_count": 15,
   "id": "47c9543b-2a32-4f00-b9c8-3e70602a1e2e",
   "metadata": {},
   "outputs": [
    {
     "data": {
      "text/plain": [
       "Text(0, 0.5, 'chi-square')"
      ]
     },
     "execution_count": 15,
     "metadata": {},
     "output_type": "execute_result"
    },
    {
     "data": {
      "image/png": "[encoded data removed]",
      "text/plain": [
       "<Figure size 432x288 with 1 Axes>"
      ]
     },
     "metadata": {
      "needs_background": "light"
     },
     "output_type": "display_data"
    }
   ],
   "source": [
    "plt.plot(alp,error,\".\")\n",
    "plt.axvspan(alp[left],alp[right], alpha=0.3, color='red')\n",
    "#plt.plot(alp,np.ones(len(alp)))\n",
    "plt.xlim(0.995,1.005)\n",
    "plt.ylim(-1,40)\n",
    "plt.xlabel(\"alpha\")\n",
    "plt.ylabel(\"chi-square\")\n",
    "#plt.legend()\n",
    "#plt.savefig(\"chsq.png\")"
   ]
  },
  {
   "cell_type": "markdown",
   "id": "4e4efab8-ad5c-45cb-a390-ea0b9e144188",
   "metadata": {},
   "source": [
    "## Goodness-of-Fit check "
   ]
  },
  {
   "cell_type": "markdown",
   "id": "2edc8e3a-d97a-4474-a3ae-ef847c9aeef1",
   "metadata": {},
   "source": [
    "### 1. Interpolating to find 1sigma constraints"
   ]
  },
  {
   "cell_type": "code",
   "execution_count": 201,
   "id": "6dca2b90-19aa-40f6-80a1-d55c565ae4f4",
   "metadata": {},
   "outputs": [],
   "source": [
    "# from scipy import interpolate\n",
    "# f = interpolate.interp1d(alp, error)"
   ]
  },
  {
   "cell_type": "code",
   "execution_count": 202,
   "id": "87469a6c-86be-4b1f-8dc1-db3398802e8d",
   "metadata": {},
   "outputs": [],
   "source": [
    "# alpn=np.linspace(0.98,1.02,10000)\n",
    "# least=np.min(f(alpn))\n",
    "# print(least)\n",
    "# ind=np.where((f(alpn)<1+least+0.01) & (f(alpn)>1+least-0.001))\n",
    "# print(ind)\n",
    "# left=ind[0][0]\n",
    "# right=ind[0][1]\n",
    "# print(alpn[left],alpn[right])\n",
    "# print(f(alpn)[left],f(alpn)[right])"
   ]
  },
  {
   "cell_type": "markdown",
   "id": "61384f3b-1daa-468a-86c5-cd1205fc29b4",
   "metadata": {},
   "source": [
    "### 2. Method 2"
   ]
  },
  {
   "cell_type": "code",
   "execution_count": 270,
   "id": "b4a282e5-5d5a-48ca-8b82-f5fff289c33d",
   "metadata": {},
   "outputs": [],
   "source": [
    "# goodness=np.array(error)#/(len(obs)-1)\n",
    "# ind=np.where(goodness<=1)\n",
    "# left=np.min(ind)\n",
    "# right=np.max(ind)\n",
    "# alp[left],alp[right]\n",
    "# error[left],error[right]"
   ]
  },
  {
   "cell_type": "code",
   "execution_count": null,
   "id": "1eab2c59-362c-4cfe-8d5c-cafb74439566",
   "metadata": {},
   "outputs": [],
   "source": []
  },
  {
   "cell_type": "code",
   "execution_count": null,
   "id": "70f05eda-1d04-4140-8c98-ce230c07f0a8",
   "metadata": {},
   "outputs": [],
   "source": []
  },
  {
   "cell_type": "markdown",
   "id": "9c904bc1-85a4-4a99-ba04-ccf1e642a921",
   "metadata": {},
   "source": [
    "### sigma_alpha vs kmax"
   ]
  },
  {
   "cell_type": "code",
   "execution_count": 226,
   "id": "0194460d-96d3-4618-99f8-31b25186d913",
   "metadata": {},
   "outputs": [],
   "source": [
    "# Bkmax245=Bk5[Bk5[:,2]<=0.245]\n",
    "# Bkmax195=Bk5[Bk5[:,2]<=0.195]\n",
    "# Bkmax145=Bk5[Bk5[:,2]<=0.145]\n",
    "# Bkmax095=Bk5[Bk5[:,2]<=0.095]\n",
    "\n",
    "# error1=chisq_alp(Bk5,alp)\n",
    "# error2=chisq_alp(Bkmax245,alp)\n",
    "# error3=chisq_alp(Bkmax195,alp)\n",
    "# error4=chisq_alp(Bkmax145,alp)\n",
    "# error5=chisq_alp(Bkmax095,alp)"
   ]
  },
  {
   "cell_type": "markdown",
   "id": "9a9e0e9d-47fe-475a-b375-a53e6112fce9",
   "metadata": {},
   "source": [
    "### Plot chisq vs alpha for different kmax value"
   ]
  },
  {
   "cell_type": "code",
   "execution_count": 16,
   "id": "e471cff1-aece-4538-ae1b-d55a77747383",
   "metadata": {},
   "outputs": [],
   "source": [
    "alp=np.linspace(0.9,1.1,20000)\n",
    "\n",
    "all_errors=[]\n",
    "all_kmax=[]\n",
    "kmax_min=0.066\n",
    "for kmax in reversed(k3):\n",
    "    if kmax>kmax_min:\n",
    "        bki = Bk5[Bk5[:,2]<=kmax]\n",
    "        errori=chisq_alp(bki,alp)\n",
    "        all_errors.append(errori)\n",
    "        all_kmax.append(kmax)\n",
    "        #print(kmax)\n",
    "        #print(len(errori))"
   ]
  },
  {
   "cell_type": "code",
   "execution_count": 18,
   "id": "b9008f99-f1a4-4cee-abcc-7c021bf79ab2",
   "metadata": {},
   "outputs": [
    {
     "data": {
      "text/plain": [
       "(-30.0, 500.0)"
      ]
     },
     "execution_count": 18,
     "metadata": {},
     "output_type": "execute_result"
    },
    {
     "data": {
      "image/png": "[encoded data removed]",
      "text/plain": [
       "<Figure size 432x288 with 1 Axes>"
      ]
     },
     "metadata": {
      "needs_background": "light"
     },
     "output_type": "display_data"
    }
   ],
   "source": [
    "alpha = np.geomspace(1,0.01,len(all_errors)) # shaded parameter for plotting\n",
    "for i,error in enumerate(all_errors):\n",
    "    plt.plot(alp,error,alpha=alpha[i],color = 'b')\n",
    "plt.ylabel(\"chisq\")\n",
    "plt.xlabel(\"alpha\")\n",
    "plt.ylim(-30,500)\n",
    "#plt.savefig(\"all_chisq.png\")"
   ]
  },
  {
   "cell_type": "markdown",
   "id": "1b9ded7a-f129-4c09-95b4-53851c9ba4f7",
   "metadata": {},
   "source": [
    "### 1sigma constriant vs kmax\n",
    "\n",
    "Find 1sigma confidence interval (of chisq vs alpha plot) for different kmax. "
   ]
  },
  {
   "cell_type": "code",
   "execution_count": 2,
   "id": "c903b01e-7328-41cc-99b3-79d2d7f28757",
   "metadata": {},
   "outputs": [],
   "source": [
    "def find_1sigma(error,llim,rlim):\n",
    "    least=np.min(error)\n",
    "    #print(least)\n",
    "    ind=np.where((error<1+least+rlim) & (error>1+least-llim))\n",
    "    #print(ind)\n",
    "    left=ind[0][0]\n",
    "    right=ind[0][-1]\n",
    "    # print(alp[left],alp[right])\n",
    "    # print(1+least)\n",
    "    # print(error[left],error[right])\n",
    "    # print(alp[right]-alp[left])\n",
    "    return alp[right]-alp[left]"
   ]
  },
  {
   "cell_type": "code",
   "execution_count": 22,
   "id": "22c3e52a-cea8-4131-9b0e-a2aa9d1821e5",
   "metadata": {},
   "outputs": [
    {
     "name": "stdout",
     "output_type": "stream",
     "text": [
      "2.18186866266804e-05\n",
      "(array([ 9925, 10108, 10109]),)\n",
      "0.9992549627481375 1.0010950547527377\n",
      "1.0000218186866268\n",
      "1.0062952426929965 1.0099656428374173\n",
      "0.0018400920046002245\n",
      "1.9713588561451907e-05\n",
      "(array([ 9914, 10115]),)\n",
      "0.9991449572478625 1.0011550577528876\n",
      "1.0000197135885613\n",
      "0.9957707373032357 1.0063730639295398\n",
      "0.0020101005050251475\n",
      "1.3843408107205459e-05\n",
      "(array([ 9901, 10137]),)\n",
      "0.9990149507475374 1.0013750687534377\n",
      "1.0000138434081072\n",
      "1.002328945791071 0.9998839070289812\n",
      "0.0023601180059003024\n",
      "1.0317590854364416e-05\n",
      "(array([ 9888, 10159]),)\n",
      "0.9988849442472124 1.0015950797539879\n",
      "1.0000103175908543\n",
      "1.0036492588403734 1.001071463005833\n",
      "0.0027101355067754573\n",
      "8.096690448769134e-06\n",
      "(array([ 9874, 10179, 10180]),)\n",
      "0.9987449372468624 1.0018050902545128\n",
      "1.0000080966904488\n",
      "1.0036154757838858 1.0041953916521744\n",
      "0.0030601530076503902\n",
      "6.358838710594596e-06\n",
      "(array([ 9858,  9859, 10202, 10203, 10204]),)\n",
      "0.9985849292464624 1.002045102255113\n",
      "1.0000063588387107\n",
      "1.0073876641084287 1.0093607050277864\n",
      "0.0034601730086505356\n",
      "5.062358439691578e-06\n",
      "(array([ 9840,  9841, 10227, 10228, 10229]),)\n",
      "0.9984049202460124 1.002295114755738\n",
      "1.0000050623584398\n",
      "1.0061766794902713 1.008208773105384\n",
      "0.0038901945097256085\n",
      "4.017824432064557e-06\n",
      "(array([ 9820,  9821, 10256, 10257, 10258]),)\n",
      "0.9982049102455124 1.002585129256463\n",
      "1.000004017824432\n",
      "1.0075906146838145 1.009776145724509\n",
      "0.004380219010950537\n",
      "3.2089565382629734e-06\n",
      "(array([ 9796,  9797, 10287, 10288, 10289]),)\n",
      "0.9979648982449123 1.0028951447572378\n",
      "1.0000032089565383\n",
      "1.0085035659927197 1.006353865188475\n",
      "0.004930246512325542\n",
      "2.5030848529638163e-06\n",
      "(array([ 9770,  9771, 10326, 10327, 10328, 10329]),)\n",
      "0.9977048852442623 1.003295164758238\n",
      "1.000002503084853\n",
      "1.0045898135849758 1.0095382969837168\n",
      "0.005590279513975727\n",
      "1.918546850549349e-06\n",
      "(array([ 9735,  9736,  9737, 10374, 10375, 10376, 10377]),)\n",
      "0.9973548677433872 1.003775188759438\n",
      "1.0000019185468505\n",
      "1.0069326417654683 1.0081377345016653\n",
      "0.006420321016050723\n",
      "1.4240374679941887e-06\n",
      "(array([ 9694,  9695,  9696,  9697, 10437, 10438, 10439, 10440]),)\n",
      "0.9969448472423622 1.0044052202610132\n",
      "1.000001424037468\n",
      "1.0099547259491761 1.0065219275564932\n",
      "0.00746037301865099\n",
      "1.051720031188502e-06\n",
      "(array([ 9644,  9645,  9646,  9647, 10512, 10513, 10514, 10515, 10516,\n",
      "       10517]),)\n",
      "0.9964448222411121 1.0051752587629381\n",
      "1.0000010517200313\n",
      "1.0096710863647318 1.0090610844129868\n",
      "0.008730436521826035\n",
      "7.539711622678106e-07\n",
      "(array([ 9580,  9581,  9582,  9583, 10609, 10610, 10611, 10612, 10613,\n",
      "       10614]),)\n",
      "0.9958047902395121 1.0061453072653634\n",
      "1.0000007539711622\n",
      "1.0065692695558637 1.0079634016449883\n",
      "0.01034051702585137\n",
      "5.428663629575322e-07\n",
      "(array([ 9503,  9504,  9505,  9506,  9507, 10724, 10725, 10726, 10727,\n",
      "       10728, 10729, 10730, 10731]),)\n",
      "0.9950347517375869 1.0073153657682885\n",
      "1.000000542866363\n",
      "1.0076127578992198 1.00859858617303\n",
      "0.012280614030701575\n",
      "3.951510417059565e-07\n",
      "(array([ 9392,  9393,  9394,  9395,  9396,  9397, 10858, 10859, 10860,\n",
      "       10861, 10862, 10863, 10864, 10865, 10866]),)\n",
      "0.9939246962348118 1.0086654332716636\n",
      "1.0000003951510417\n",
      "1.0071241059953078 1.0087273205496847\n",
      "0.014740737036851748\n",
      "2.745655401058915e-07\n",
      "(array([ 9274,  9275,  9276,  9277,  9278,  9279,  9280,  9281, 11048,\n",
      "       11049, 11050, 11051, 11052, 11053, 11054, 11055, 11056, 11057,\n",
      "       11058]),)\n",
      "0.9927446372318617 1.0105855292764638\n",
      "1.00000027456554\n",
      "1.0094228088718382 1.0086693310014958\n",
      "0.017840892044602152\n",
      "1.8073165956964748e-07\n",
      "(array([ 9096,  9097,  9098,  9099,  9100,  9101,  9102,  9103,  9104,\n",
      "       11321, 11322, 11323, 11324, 11325, 11326, 11327, 11328, 11329,\n",
      "       11330, 11331, 11332, 11333, 11334, 11335]),)\n",
      "0.9909645482274114 1.0133556677833893\n",
      "1.0000001807316596\n",
      "1.008746620709153 1.009139190234115\n",
      "0.022391119555977834\n",
      "1.2011680287855857e-07\n",
      "(array([ 8868,  8869,  8870,  8871,  8872,  8873,  8874,  8875,  8876,\n",
      "        8877,  8878,  8879,  8880, 11659, 11660, 11661, 11662, 11663,\n",
      "       11664, 11665, 11666, 11667, 11668, 11669, 11670, 11671, 11672,\n",
      "       11673, 11674, 11675, 11676, 11677, 11678]),)\n",
      "0.9886844342217112 1.0167858392919646\n",
      "1.000000120116803\n",
      "1.009816790024621 1.0098419846473974\n",
      "0.028101405070253493\n",
      "7.61044523843101e-08\n",
      "(array([ 8587,  8588,  8589,  8590,  8591,  8592,  8593,  8594,  8595,\n",
      "        8596,  8597,  8598,  8599,  8600,  8601, 12164, 12165, 12166,\n",
      "       12167, 12168, 12169, 12170, 12171, 12172, 12173, 12174, 12175,\n",
      "       12176, 12177, 12178, 12179, 12180, 12181, 12182, 12183, 12184,\n",
      "       12185, 12186, 12187, 12188, 12189]),)\n",
      "0.9858742937146858 1.0218960948047402\n",
      "1.0000000761044523\n",
      "1.0088658914565531 1.0092479466263038\n",
      "0.03602180109005437\n",
      "4.072648704706289e-08\n",
      "(array([ 8097,  8098,  8099,  8100,  8101,  8102,  8103,  8104,  8105,\n",
      "        8106,  8107,  8108,  8109,  8110,  8111,  8112,  8113,  8114,\n",
      "        8115,  8116,  8117,  8118, 13092, 13093, 13094, 13095, 13096,\n",
      "       13097, 13098, 13099, 13100, 13101, 13102, 13103, 13104, 13105,\n",
      "       13106, 13107, 13108, 13109, 13110, 13111, 13112, 13113, 13114,\n",
      "       13115, 13116, 13117, 13118, 13119, 13120, 13121, 13122, 13123,\n",
      "       13124, 13125, 13126, 13127, 13128, 13129, 13130, 13131]),)\n",
      "0.9809740487024352 1.0313165658282915\n",
      "1.000000040726487\n",
      "1.009654888389693 1.0097733707227006\n",
      "0.050342517125856245\n",
      "2.0968753227580552e-08\n",
      "(array([ 7305,  7306,  7307,  7308,  7309,  7310,  7311,  7312,  7313,\n",
      "        7314,  7315,  7316,  7317,  7318,  7319,  7320,  7321,  7322,\n",
      "        7323,  7324,  7325,  7326,  7327,  7328,  7329,  7330,  7331,\n",
      "        7332,  7333,  7334,  7335, 15065, 15066, 15067, 15068, 15069,\n",
      "       15070, 15071, 15072, 15073, 15074, 15075, 15076, 15077, 15078,\n",
      "       15079, 15080, 15081, 15082, 15083, 15084, 15085, 15086, 15087,\n",
      "       15088, 15089, 15090, 15091, 15092, 15093, 15094, 15095, 15096,\n",
      "       15097, 15098, 15099, 15100, 15101, 15102, 15103, 15104, 15105,\n",
      "       15106, 15107, 15108, 15109, 15110, 15111, 15112, 15113, 15114,\n",
      "       15115, 15116, 15117, 15118, 15119, 15120, 15121, 15122, 15123,\n",
      "       15124, 15125, 15126, 15127, 15128, 15129, 15130, 15131, 15132,\n",
      "       15133, 15134, 15135, 15136, 15137, 15138, 15139, 15140, 15141,\n",
      "       15142, 15143, 15144, 15145]),)\n",
      "0.9730536526826342 1.051457572878644\n",
      "1.0000000209687532\n",
      "1.0095419931418532 1.0097769955729623\n",
      "0.07840392019600972\n",
      "1.097497773389301e-08\n",
      "(array([ 6048,  6049,  6050,  6051,  6052,  6053,  6054,  6055,  6056,\n",
      "        6057,  6058,  6059,  6060,  6061,  6062,  6063,  6064,  6065,\n",
      "        6066,  6067,  6068,  6069,  6070,  6071,  6072,  6073,  6074,\n",
      "        6075,  6076,  6077,  6078,  6079,  6080,  6081,  6082,  6083,\n",
      "        6084,  6085,  6086,  6087,  6088,  6089,  6090,  6091,  6092,\n",
      "        6093,  6094,  6095,  6096,  6097, 17630, 17631, 17632, 17633,\n",
      "       17634, 17635, 17636, 17637, 17638, 17639, 17640, 17641, 17642,\n",
      "       17643, 17644, 17645, 17646, 17647, 17648, 17649, 17650, 17651,\n",
      "       17652, 17653, 17654, 17655, 17656, 17657, 17658, 17659, 17660,\n",
      "       17661, 17662, 17663, 17664, 17665, 17666, 17667, 17668, 17669,\n",
      "       17670, 17671, 17672, 17673, 17674, 17675, 17676, 17677, 17678,\n",
      "       17679, 17680, 17681, 17682, 17683, 17684, 17685, 17686, 17687,\n",
      "       17688, 17689, 17690, 17691, 17692, 17693, 17694, 17695, 17696,\n",
      "       17697, 17698, 17699, 17700, 17701, 17702, 17703, 17704, 17705,\n",
      "       17706, 17707, 17708, 17709, 17710, 17711, 17712, 17713, 17714,\n",
      "       17715, 17716, 17717, 17718, 17719, 17720, 17721, 17722, 17723,\n",
      "       17724, 17725, 17726, 17727, 17728, 17729, 17730, 17731, 17732,\n",
      "       17733, 17734, 17735, 17736, 17737, 17738, 17739, 17740, 17741,\n",
      "       17742, 17743, 17744, 17745, 17746, 17747, 17748, 17749, 17750,\n",
      "       17751, 17752, 17753, 17754, 17755, 17756, 17757, 17758, 17759,\n",
      "       17760]),)\n",
      "0.9604830241512076 1.0776088804440223\n",
      "1.0000000109749778\n",
      "1.009743815833899 1.009951553093037\n",
      "0.11712585629281469\n"
     ]
    }
   ],
   "source": [
    "sigma=[]\n",
    "for i in all_errors:\n",
    "    sigma.append(find_1sigma(i,0.01,0.01))"
   ]
  },
  {
   "cell_type": "code",
   "execution_count": 23,
   "id": "b409519a-3ae2-4f45-a411-fdd3342e84bd",
   "metadata": {},
   "outputs": [
    {
     "data": {
      "text/plain": [
       "Text(0, 0.5, '1sigma_alpha')"
      ]
     },
     "execution_count": 23,
     "metadata": {},
     "output_type": "execute_result"
    },
    {
     "data": {
      "image/png": "[encoded data removed]",
      "text/plain": [
       "<Figure size 432x288 with 1 Axes>"
      ]
     },
     "metadata": {
      "needs_background": "light"
     },
     "output_type": "display_data"
    }
   ],
   "source": [
    "plt.plot(all_kmax,sigma)\n",
    "plt.xlabel(\"kmax\")\n",
    "plt.ylabel(\"1sigma_alpha\")\n",
    "#plt.savefig(\"1sigma_alpha_vs_kmax.png\")"
   ]
  },
  {
   "cell_type": "code",
   "execution_count": 3,
   "id": "8174c9df-7e66-4646-89ed-dd021e11fcd3",
   "metadata": {},
   "outputs": [
    {
     "ename": "NameError",
     "evalue": "name 'Bk' is not defined",
     "output_type": "error",
     "traceback": [
      "\u001b[0;31m---------------------------------------------------------------------------\u001b[0m",
      "\u001b[0;31mNameError\u001b[0m                                 Traceback (most recent call last)",
      "\u001b[0;32m/tmp/ipykernel_15127/3918504752.py\u001b[0m in \u001b[0;36m<module>\u001b[0;34m\u001b[0m\n\u001b[0;32m----> 1\u001b[0;31m \u001b[0mBk\u001b[0m\u001b[0;34m\u001b[0m\u001b[0;34m\u001b[0m\u001b[0m\n\u001b[0m",
      "\u001b[0;31mNameError\u001b[0m: name 'Bk' is not defined"
     ]
    }
   ],
   "source": [
    "Bk"
   ]
  },
  {
   "cell_type": "code",
   "execution_count": null,
   "id": "5211a9bd-488b-4a81-9746-94eab8a74354",
   "metadata": {},
   "outputs": [],
   "source": []
  }
 ],
 "metadata": {
  "kernelspec": {
   "display_name": "Python (ml)",
   "language": "python",
   "name": "ml"
  },
  "language_info": {
   "codemirror_mode": {
    "name": "ipython",
    "version": 3
   },
   "file_extension": ".py",
   "mimetype": "text/x-python",
   "name": "python",
   "nbconvert_exporter": "python",
   "pygments_lexer": "ipython3",
   "version": "3.9.7"
  }
 },
 "nbformat": 4,
 "nbformat_minor": 5
}
