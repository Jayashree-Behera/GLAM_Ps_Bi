{
 "cells": [
  {
   "cell_type": "code",
   "execution_count": 1,
   "metadata": {},
   "outputs": [],
   "source": [
    "import numpy as np\n",
    "import matplotlib.pyplot as plt\n",
    "from scipy.interpolate import LinearNDInterpolator"
   ]
  },
  {
   "cell_type": "code",
   "execution_count": 2,
   "metadata": {},
   "outputs": [],
   "source": [
    "bi_data = np.load(\"glam_bk_0114.npz\")"
   ]
  },
  {
   "cell_type": "code",
   "execution_count": 3,
   "metadata": {},
   "outputs": [],
   "source": [
    "kkk = bi_data[\"k\"]\n",
    "bi_mean = bi_data[\"bkrm\"]\n",
    "bi_cov = np.cov(bi_data[\"bkr\"])"
   ]
  },
  {
   "cell_type": "code",
   "execution_count": 5,
   "metadata": {},
   "outputs": [
    {
     "data": {
      "text/plain": [
       "array([[0.005, 0.005, 0.005],\n",
       "       [0.005, 0.015, 0.015],\n",
       "       [0.005, 0.025, 0.025],\n",
       "       ...,\n",
       "       [0.285, 0.285, 0.295],\n",
       "       [0.285, 0.295, 0.295],\n",
       "       [0.295, 0.295, 0.295]])"
      ]
     },
     "execution_count": 5,
     "metadata": {},
     "output_type": "execute_result"
    }
   ],
   "source": [
    "kkk"
   ]
  },
  {
   "cell_type": "code",
   "execution_count": 4,
   "metadata": {},
   "outputs": [],
   "source": [
    "bi_int = LinearNDInterpolator(kkk, bi_mean)"
   ]
  },
  {
   "cell_type": "code",
   "execution_count": 5,
   "metadata": {},
   "outputs": [],
   "source": [
    "kmax = 0.21\n",
    "mask = np.ones(2600, dtype=bool)\n",
    "mask[kkk[:,2] > kmax] = False\n",
    "cov = bi_cov[np.ix_(mask,mask)]\n",
    "icov = np.linalg.inv(cov)"
   ]
  },
  {
   "cell_type": "code",
   "execution_count": 6,
   "metadata": {},
   "outputs": [
    {
     "data": {
      "text/plain": [
       "2.035292274777871"
      ]
     },
     "execution_count": 6,
     "metadata": {},
     "output_type": "execute_result"
    }
   ],
   "source": [
    "Delta = bi_mean[mask] - bi_int(1.002*kkk[mask])\n",
    "np.dot(np.dot(Delta,icov),Delta)"
   ]
  },
  {
   "cell_type": "code",
   "execution_count": 21,
   "metadata": {},
   "outputs": [],
   "source": [
    "kmax = np.linspace(0.21, 0.25, 5)\n",
    "alpha = np.linspace(1.0000, 1.0200, 201)\n",
    "sigma_alpha = np.zeros(np.size(kmax))\n",
    "sigma_lapha_h = np.zeros(np.size(kmax))\n",
    "h_factor = np.zeros(np.size(kmax))\n",
    "for i in range(np.size(kmax)):\n",
    "    mask = np.ones(2600, dtype=bool)\n",
    "    mask[kkk[:,2] > kmax[i]] = False\n",
    "    h_factor[i] = (925 - 1)/(925 - np.sum(mask) -1);\n",
    "    cov = bi_cov[np.ix_(mask,mask)]\n",
    "    icov = np.linalg.inv(cov)\n",
    "    for j in range(np.size(alpha)):\n",
    "        Delta = bi_mean[mask] - bi_int(alpha[j]*kkk[mask])\n",
    "        chi2 = np.dot(np.dot(Delta,icov),Delta)\n",
    "        if chi2 > 1:\n",
    "            sigma_alpha[i] = alpha[j];\n",
    "            break;\n"
   ]
  },
  {
   "cell_type": "code",
   "execution_count": 22,
   "metadata": {},
   "outputs": [
    {
     "data": {
      "text/plain": [
       "array([0.21, 0.22, 0.23, 0.24, 0.25])"
      ]
     },
     "execution_count": 22,
     "metadata": {},
     "output_type": "execute_result"
    }
   ],
   "source": [
    "kmax"
   ]
  },
  {
   "cell_type": "code",
   "execution_count": null,
   "metadata": {},
   "outputs": [],
   "source": []
  },
  {
   "cell_type": "code",
   "execution_count": 23,
   "metadata": {},
   "outputs": [
    {
     "data": {
      "text/plain": [
       "array([1.0015, 0.    , 1.0001, 1.0001, 1.0001])"
      ]
     },
     "execution_count": 23,
     "metadata": {},
     "output_type": "execute_result"
    }
   ],
   "source": [
    "sigma_alpha"
   ]
  },
  {
   "cell_type": "code",
   "execution_count": 14,
   "metadata": {},
   "outputs": [
    {
     "data": {
      "text/plain": [
       "array([0.   , 0.   , 0.   , 0.   , 0.   , 0.   , 0.   , 0.   , 0.   ,\n",
       "       0.   , 0.   , 1.089, 1.077, 1.058, 1.045, 1.039, 1.034, 1.033,\n",
       "       1.03 , 1.029])"
      ]
     },
     "execution_count": 14,
     "metadata": {},
     "output_type": "execute_result"
    }
   ],
   "source": [
    "sigma_alpha_h"
   ]
  },
  {
   "cell_type": "code",
   "execution_count": 24,
   "metadata": {},
   "outputs": [
    {
     "data": {
      "text/plain": [
       "array([-42.        ,  -6.        ,  -3.10067114,  -2.03524229,\n",
       "        -1.48314607])"
      ]
     },
     "execution_count": 24,
     "metadata": {},
     "output_type": "execute_result"
    }
   ],
   "source": [
    "h_factor"
   ]
  },
  {
   "cell_type": "code",
   "execution_count": 13,
   "metadata": {},
   "outputs": [],
   "source": [
    "kmax = np.linspace(0.01, 0.2, 20)\n",
    "alpha = np.linspace(1.000, 1.100, 101)\n",
    "sigma_alpha = np.zeros(np.size(kmax))\n",
    "sigma_alpha_h = np.zeros(np.size(kmax))\n",
    "h_factor = np.zeros(np.size(kmax))\n",
    "for i in range(np.size(kmax)):\n",
    "    mask = np.ones(2600, dtype=bool)\n",
    "    mask[kkk[:,2] > kmax[i]] = False\n",
    "    h_factor[i] = (925 - 1)/(925 - np.sum(mask) -1);\n",
    "    cov = bi_cov[np.ix_(mask,mask)]*h_factor[i]\n",
    "    icov = np.linalg.inv(cov)\n",
    "    for j in range(np.size(alpha)):\n",
    "        Delta = bi_mean[mask] - bi_int(alpha[j]*kkk[mask])\n",
    "        chi2 = np.dot(np.dot(Delta,icov),Delta)\n",
    "        if chi2 > 1:\n",
    "            sigma_alpha_h[i] = alpha[j];\n",
    "            break;\n"
   ]
  }
 ],
 "metadata": {
  "interpreter": {
   "hash": "e7370f93d1d0cde622a1f8e1c04877d8463912d04d973331ad4851f04de6915a"
  },
  "kernelspec": {
   "display_name": "NERSC Python",
   "language": "python",
   "name": "python3"
  },
  "language_info": {
   "codemirror_mode": {
    "name": "ipython",
    "version": 3
   },
   "file_extension": ".py",
   "mimetype": "text/x-python",
   "name": "python",
   "nbconvert_exporter": "python",
   "pygments_lexer": "ipython3",
   "version": "3.9.7"
  }
 },
 "nbformat": 4,
 "nbformat_minor": 4
}
