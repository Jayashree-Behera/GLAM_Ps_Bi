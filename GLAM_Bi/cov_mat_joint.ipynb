{
 "cells": [
  {
   "cell_type": "code",
   "execution_count": 1,
   "id": "37402b46-e7ed-4c6f-b3db-6a51f608bdf6",
   "metadata": {},
   "outputs": [],
   "source": [
    "using DelimitedFiles\n",
    "using Plots\n",
    "using Statistics\n",
    "using LinearAlgebra\n",
    "using CSV, DataFrames\n",
    "using NPZ"
   ]
  },
  {
   "cell_type": "code",
   "execution_count": null,
   "id": "b9ea5097-64c0-48e6-8e2f-10b3d6aa2990",
   "metadata": {},
   "outputs": [],
   "source": [
    "path1=\"z0.50/BAO/\"\n",
    "path2=\"z0.50/noBAO/\""
   ]
  },
  {
   "cell_type": "code",
   "execution_count": 15,
   "id": "e13e62c7-91f3-445d-b69d-b47f6f39bb9f",
   "metadata": {},
   "outputs": [
    {
     "name": "stdout",
     "output_type": "stream",
     "text": [
      "935"
     ]
    }
   ],
   "source": [
    "Nfiles = 0  #number of mocks\n",
    "all_pk = zeros(30,935);\n",
    "\n",
    "path=\"../GLAM_Ps/z0.50/noBAO/\"\n",
    "for filename in readdir(path)\n",
    "    if filename[1:3] == \"Pk_\"\n",
    "        Pk = readdlm(string(path,filename))\n",
    "        Nfiles += 1\n",
    "        all_pk[:,Nfiles]=Pk[:,2]\n",
    "        #print(size(Pk))\n",
    "    end\n",
    "end\n",
    "\n",
    "print(Nfiles)\n",
    "\n",
    "#var=varm(all_Bk,Bkk_mean[:,4]; dims=2, corrected=false);\n",
    "covpk=cov(all_pk ; dims=2,corrected=false);"
   ]
  },
  {
   "cell_type": "code",
   "execution_count": 16,
   "id": "b313c6c0-4502-487b-9adb-0a5a1e9ec7c9",
   "metadata": {},
   "outputs": [
    {
     "name": "stdout",
     "output_type": "stream",
     "text": [
      "935"
     ]
    }
   ],
   "source": [
    "Nfiles = 0  #number of mocks\n",
    "all_bk = zeros(2600,935);\n",
    "\n",
    "path=\"z0.50/noBAO/\"\n",
    "for filename in readdir(path)\n",
    "    if filename[1:3] == \"Bk_\"\n",
    "        Bkk = readdlm(string(path,filename))\n",
    "        Nfiles += 1\n",
    "        all_bk[:,Nfiles]=Bkk[:,4]\n",
    "    end\n",
    "end\n",
    "\n",
    "print(Nfiles)\n",
    "covbk=cov(all_bk ; dims=2,corrected=false);"
   ]
  },
  {
   "cell_type": "markdown",
   "id": "cfac1e95-e06c-4c7b-9ce8-96ee8ddbc702",
   "metadata": {},
   "source": [
    "## Join pk and bkk data"
   ]
  },
  {
   "cell_type": "code",
   "execution_count": 29,
   "id": "217fc8be-d796-4750-a669-face389076c3",
   "metadata": {},
   "outputs": [],
   "source": [
    "joint_pkbk=[all_pk;all_bk];"
   ]
  },
  {
   "cell_type": "code",
   "execution_count": 30,
   "id": "9de1a2ba-b07e-4331-bdf5-5ae4f98884d5",
   "metadata": {},
   "outputs": [],
   "source": [
    "joint_cov=cov(joint_pkbk ; dims=2,corrected=false);"
   ]
  },
  {
   "cell_type": "code",
   "execution_count": 38,
   "id": "58f7d8e8-5f1c-4303-b795-d61fcc2e6054",
   "metadata": {},
   "outputs": [
    {
     "data": {
      "text/plain": [
       "2600×2600 Matrix{Float64}:\n",
       "      9.39266e10      2.29905e8  …  26949.8        -13098.5\n",
       "      2.29905e8       3.28318e9     -6726.63        13452.2\n",
       "      4.66246e8      -3.65502e7      1108.22         4494.53\n",
       "      1.6698e8        2.29508e7     -3013.48         3799.88\n",
       "     -4.67813e7      -8.05882e6     -1289.93         2225.9\n",
       "     -4.35056e7       1.09344e6  …   -874.685       -1122.71\n",
       "     -3.69839e7      -1.2708e7       -625.186       -1074.72\n",
       "      2.37438e7       6.32098e6       476.86           64.6752\n",
       "     -2.03883e7      -6.7422e6       -245.39         -800.213\n",
       "     -1.28362e7      -3.40185e6      -109.614         -74.9331\n",
       "      1.67515e7       2.41899e6  …     -1.95174      -293.701\n",
       "     -1.91498e7       1.03812e6        60.3811         57.3526\n",
       "     -2.23479e6       7.30862e5       -28.4573       -289.74\n",
       "      ⋮                          ⋱                 \n",
       "   7713.54         4436.94              0.129567        0.721101\n",
       "  20636.8         11918.6              -0.651875       -0.175493\n",
       " -30403.1          9628.97       …      0.462452       -0.398554\n",
       " -98675.9         -2202.26              0.731714        0.215846\n",
       " -13826.0          5642.67              0.346218       -0.352629\n",
       "  -9983.31        -2225.02             -0.785822        0.0289327\n",
       "  -2904.82        -3342.66             -0.0312247       0.234285\n",
       " -18025.9           258.026      …      0.430455       -0.309555\n",
       "  34174.5         -5094.33              1.15325        -1.29415\n",
       "  80380.8          7664.29              0.146281       -0.662151\n",
       "  26949.8         -6726.63             11.8636         -1.97576\n",
       " -13098.5         13452.2              -1.97576        35.1573"
      ]
     },
     "execution_count": 38,
     "metadata": {},
     "output_type": "execute_result"
    }
   ],
   "source": [
    "covbk"
   ]
  },
  {
   "cell_type": "code",
   "execution_count": 53,
   "id": "e8ec97a5-2d76-4e98-8181-cc0eeaf881a7",
   "metadata": {},
   "outputs": [
    {
     "data": {
      "text/plain": [
       "\"joint_cov_no_z0.50.DAT\""
      ]
     },
     "execution_count": 53,
     "metadata": {},
     "output_type": "execute_result"
    }
   ],
   "source": [
    "CSV.write(\"joint_cov_no_z0.50.DAT\", DataFrame(joint_cov),header = false,delim = '\\t')"
   ]
  },
  {
   "cell_type": "code",
   "execution_count": null,
   "id": "ea88aff2-454e-455e-8b21-ec122753695c",
   "metadata": {},
   "outputs": [],
   "source": []
  }
 ],
 "metadata": {
  "kernelspec": {
   "display_name": "Julia 1.6.5",
   "language": "julia",
   "name": "julia-1.6"
  },
  "language_info": {
   "file_extension": ".jl",
   "mimetype": "application/julia",
   "name": "julia",
   "version": "1.6.5"
  }
 },
 "nbformat": 4,
 "nbformat_minor": 5
}
