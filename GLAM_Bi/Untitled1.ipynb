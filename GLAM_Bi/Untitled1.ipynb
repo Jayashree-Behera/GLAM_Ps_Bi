{
 "cells": [
  {
   "cell_type": "code",
   "execution_count": 1,
   "id": "8a7ed3e4-fb98-4e23-b52f-d5bcc877ff87",
   "metadata": {},
   "outputs": [],
   "source": [
    "import numpy as np\n",
    "from numpy.linalg import inv\n",
    "import matplotlib.pyplot as plt\n",
    "from itertools import permutations\n",
    "from scipy.interpolate import RegularGridInterpolator\n",
    "from scipy.interpolate import LinearNDInterpolator\n",
    "from scipy.interpolate import interpn\n",
    "import scipy.interpolate as interpolate\n",
    "\n",
    "import pandas as pd\n",
    "\n",
    "import scipy.stats\n",
    "\n",
    "\n",
    "from sklearn.ensemble import RandomForestRegressor\n",
    "from sklearn.metrics import mean_squared_error\n",
    "from sklearn.tree import DecisionTreeRegressor\n",
    "from sklearn.ensemble import AdaBoostRegressor\n",
    "import xgboost as xgb"
   ]
  },
  {
   "cell_type": "code",
   "execution_count": 45,
   "id": "4f9128af-5532-47f2-b1bc-bff9294dbd5c",
   "metadata": {},
   "outputs": [],
   "source": [
    "Bk=np.loadtxt(\"Bkavg_z0.50.DAT\")\n",
    "Pk=np.loadtxt(\"../GLAM_Ps/Pkavg_z0.50.DAT\")\n",
    "cov=np.loadtxt(\"joint_cov_no_z0.50.DAT\")\n",
    "covbk=np.loadtxt(\"Bkcov_no_z0.50.DAT\")\n",
    "covpk=np.loadtxt(\"../GLAM_Ps/Pkcov_no_z0.50.DAT\")"
   ]
  },
  {
   "cell_type": "code",
   "execution_count": 46,
   "id": "75e7722d-5841-40bd-a17d-dca67cb55c6c",
   "metadata": {},
   "outputs": [
    {
     "data": {
      "text/plain": [
       "(2600, 8)"
      ]
     },
     "execution_count": 46,
     "metadata": {},
     "output_type": "execute_result"
    }
   ],
   "source": [
    "Bk.shape"
   ]
  },
  {
   "cell_type": "code",
   "execution_count": 47,
   "id": "4f5bab76-d076-4781-9771-d7d7b3f1d63a",
   "metadata": {},
   "outputs": [
    {
     "data": {
      "text/plain": [
       "(30, 6)"
      ]
     },
     "execution_count": 47,
     "metadata": {},
     "output_type": "execute_result"
    }
   ],
   "source": [
    "Pk.shape"
   ]
  },
  {
   "cell_type": "code",
   "execution_count": 48,
   "id": "905908c7-68ca-402f-a2ef-d8d1d876f83b",
   "metadata": {},
   "outputs": [
    {
     "data": {
      "text/plain": [
       "(2630, 2630)"
      ]
     },
     "execution_count": 48,
     "metadata": {},
     "output_type": "execute_result"
    }
   ],
   "source": [
    "cov.shape"
   ]
  },
  {
   "cell_type": "code",
   "execution_count": 49,
   "id": "6f68281c-e7e0-4765-a2ab-2a6ea4b69636",
   "metadata": {},
   "outputs": [
    {
     "data": {
      "text/plain": [
       "(2600, 2600)"
      ]
     },
     "execution_count": 49,
     "metadata": {},
     "output_type": "execute_result"
    }
   ],
   "source": [
    "covbk.shape"
   ]
  },
  {
   "cell_type": "code",
   "execution_count": 50,
   "id": "a5f38635-0dce-4ee0-b4d6-5429e71cce98",
   "metadata": {},
   "outputs": [
    {
     "data": {
      "text/plain": [
       "(30, 30)"
      ]
     },
     "execution_count": 50,
     "metadata": {},
     "output_type": "execute_result"
    }
   ],
   "source": [
    "covpk.shape"
   ]
  },
  {
   "cell_type": "code",
   "execution_count": 51,
   "id": "5419aedb-fdb7-4ff7-8422-920857d10777",
   "metadata": {},
   "outputs": [],
   "source": [
    "cov3q = cov[len(Pk[:,0]):len(Pk[:,0])+len(Bk[:,0]),len(Pk[:,0]):len(Pk[:,0])+len(Bk[:,0])]\n",
    "cov1q = cov[:len(Pk[:,0]),:len(Pk[:,0])]"
   ]
  },
  {
   "cell_type": "code",
   "execution_count": 52,
   "id": "6e572d2e-55bb-4307-92cd-0520edc8a1ab",
   "metadata": {},
   "outputs": [
    {
     "data": {
      "text/plain": [
       "0.0"
      ]
     },
     "execution_count": 52,
     "metadata": {},
     "output_type": "execute_result"
    }
   ],
   "source": [
    "np.sum(covpk-cov1q)"
   ]
  },
  {
   "cell_type": "code",
   "execution_count": 53,
   "id": "e2bb368d-4abe-4ed8-b5fc-ed5df5c5e238",
   "metadata": {},
   "outputs": [
    {
     "data": {
      "text/plain": [
       "array([[ 9.39266116e+10,  2.29904835e+08,  4.66246394e+08, ...,\n",
       "         8.03808085e+04,  2.69498148e+04, -1.30985329e+04],\n",
       "       [ 2.29904835e+08,  3.28317650e+09, -3.65501508e+07, ...,\n",
       "         7.66428933e+03, -6.72663321e+03,  1.34522497e+04],\n",
       "       [ 4.66246394e+08, -3.65501508e+07,  8.98057140e+08, ...,\n",
       "         2.43256137e+03,  1.10821924e+03,  4.49453154e+03],\n",
       "       ...,\n",
       "       [ 8.03808085e+04,  7.66428933e+03,  2.43256137e+03, ...,\n",
       "         1.35961027e+01,  1.46281470e-01, -6.62150547e-01],\n",
       "       [ 2.69498148e+04, -6.72663321e+03,  1.10821924e+03, ...,\n",
       "         1.46281470e-01,  1.18635818e+01, -1.97576332e+00],\n",
       "       [-1.30985329e+04,  1.34522497e+04,  4.49453154e+03, ...,\n",
       "        -6.62150547e-01, -1.97576332e+00,  3.51572847e+01]])"
      ]
     },
     "execution_count": 53,
     "metadata": {},
     "output_type": "execute_result"
    }
   ],
   "source": [
    "cov[30:2630,30:2630]"
   ]
  },
  {
   "cell_type": "code",
   "execution_count": 56,
   "id": "386b967e-3b38-42b1-b777-e685fd3d9e91",
   "metadata": {},
   "outputs": [
    {
     "data": {
      "text/plain": [
       "0.0"
      ]
     },
     "execution_count": 56,
     "metadata": {},
     "output_type": "execute_result"
    }
   ],
   "source": [
    "np.sum(covbk-cov3q)"
   ]
  },
  {
   "cell_type": "code",
   "execution_count": 31,
   "id": "b36f04b0-95c5-44c1-aaf4-8af0ac9e3353",
   "metadata": {},
   "outputs": [
    {
     "data": {
      "text/plain": [
       "<matplotlib.legend.Legend at 0x1554f4dba7c0>"
      ]
     },
     "execution_count": 31,
     "metadata": {},
     "output_type": "execute_result"
    },
    {
     "data": {
      "image/png": "[encoded data removed]",
      "text/plain": [
       "<Figure size 432x288 with 1 Axes>"
      ]
     },
     "metadata": {
      "needs_background": "light"
     },
     "output_type": "display_data"
    }
   ],
   "source": [
    "datap = np.load('../GLAM_Ps/pk_1sigma.npz')\n",
    "datab = np.load('bkk_1sigma.npz')\n",
    "dataj = np.load('join_1sigma.npz')\n",
    "plt.semilogy(datap[\"kmax\"],datap[\"sigma\"],'b',label=\"Pk_sigma\")\n",
    "plt.semilogy(datap[\"kmax\"],datap[\"sigmahf\"],'b.--',label=\"Pk_sigma_hf\")\n",
    "#plt.plot(dataj[\"kmax\"],dataj[\"sigma\"]*10,'c',label=\"joint_sigmax10\")\n",
    "plt.semilogy(datab[\"kmax\"],datab[\"sigma\"],\"r\",label=\"Bk_sigma\")\n",
    "plt.semilogy(datab[\"kmax\"],datab[\"sigmahf\"],\"r.--\",label=\"Bk_sigmahf\")\n",
    "\n",
    "plt.xlabel(\"kmax\")\n",
    "plt.ylabel(\"1sigma_alpha\")\n",
    "\n",
    "plt.legend()\n"
   ]
  },
  {
   "cell_type": "code",
   "execution_count": 5,
   "id": "76e3a7ce-7077-4dc3-ba13-bd1d5a69986b",
   "metadata": {},
   "outputs": [
    {
     "data": {
      "text/plain": [
       "['kmax', 'sigmahf', 'sigma', 'hf']"
      ]
     },
     "execution_count": 5,
     "metadata": {},
     "output_type": "execute_result"
    }
   ],
   "source": [
    "datab.files"
   ]
  },
  {
   "cell_type": "code",
   "execution_count": 11,
   "id": "e5e5331e-6f58-4192-a9bf-d53a0d6346d6",
   "metadata": {},
   "outputs": [
    {
     "data": {
      "text/plain": [
       "array([4.11160714, 2.85139319, 2.23543689, 1.87195122, 1.63587922,\n",
       "       1.47124601, 1.35242291, 1.26337449, 1.1961039 , 1.14409938,\n",
       "       1.10431655, 1.07342657, 1.05017104, 1.03251121, 1.01993355])"
      ]
     },
     "execution_count": 11,
     "metadata": {},
     "output_type": "execute_result"
    }
   ],
   "source": [
    "datab[\"hf\"]"
   ]
  },
  {
   "cell_type": "code",
   "execution_count": 13,
   "id": "fd6b877c-1bd6-4241-9ffd-b9edf5dc40c1",
   "metadata": {},
   "outputs": [
    {
     "data": {
      "text/plain": [
       "array([0.195, 0.185, 0.175, 0.165, 0.155, 0.145, 0.135, 0.125, 0.115,\n",
       "       0.105, 0.095, 0.085, 0.075, 0.065, 0.055])"
      ]
     },
     "execution_count": 13,
     "metadata": {},
     "output_type": "execute_result"
    }
   ],
   "source": [
    "datab[\"kmax\"]"
   ]
  },
  {
   "cell_type": "code",
   "execution_count": 17,
   "id": "4d3e9f1c-30ba-4649-8231-32e2e9d58351",
   "metadata": {},
   "outputs": [
    {
     "data": {
      "text/plain": [
       "array([2.00941698, 1.7012891 , 1.48466007, 1.37253677, 1.28100354,\n",
       "       1.21296337, 1.16361749, 1.12446718, 1.09472733, 1.07042302,\n",
       "       1.05173806, 1.0369661 , 1.02676788, 1.01852839, 1.02461837])"
      ]
     },
     "execution_count": 17,
     "metadata": {},
     "output_type": "execute_result"
    }
   ],
   "source": [
    "datab[\"sigmahf\"]/datab[\"sigma\"]"
   ]
  },
  {
   "cell_type": "code",
   "execution_count": null,
   "id": "3e3d3d13-c487-4532-9bb3-3e753c73a9c0",
   "metadata": {},
   "outputs": [],
   "source": []
  }
 ],
 "metadata": {
  "kernelspec": {
   "display_name": "NERSC Python",
   "language": "python",
   "name": "python3"
  },
  "language_info": {
   "codemirror_mode": {
    "name": "ipython",
    "version": 3
   },
   "file_extension": ".py",
   "mimetype": "text/x-python",
   "name": "python",
   "nbconvert_exporter": "python",
   "pygments_lexer": "ipython3",
   "version": "3.9.7"
  }
 },
 "nbformat": 4,
 "nbformat_minor": 5
}
