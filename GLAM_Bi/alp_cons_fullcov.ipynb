{
 "cells": [
  {
   "cell_type": "markdown",
   "id": "50d0c8a6-d363-4fa4-92ca-555b03ae2cc3",
   "metadata": {},
   "source": [
    "# Check alpha constraints for bispectrum"
   ]
  },
  {
   "cell_type": "markdown",
   "id": "70adc573-71b3-4ffe-a099-f318687656c4",
   "metadata": {},
   "source": [
    "### Import all modules"
   ]
  },
  {
   "cell_type": "code",
   "execution_count": 2,
   "id": "472a6fef-ca75-4622-8f98-da12dbf381c9",
   "metadata": {},
   "outputs": [],
   "source": [
    "import numpy as np\n",
    "from numpy.linalg import inv,det\n",
    "import matplotlib.pyplot as plt\n",
    "from itertools import permutations\n",
    "from scipy.interpolate import RegularGridInterpolator as rgi\n",
    "import scipy.interpolate as interpolate\n",
    "from scipy.interpolate import LinearNDInterpolator as lndi\n",
    "import pandas as pd\n",
    "import scipy.stats\n",
    "import math"
   ]
  },
  {
   "cell_type": "markdown",
   "id": "71832379-112d-4ffa-b799-8297092b0dab",
   "metadata": {},
   "source": [
    "## Load data"
   ]
  },
  {
   "cell_type": "code",
   "execution_count": 6,
   "id": "c34fefe4-89c8-464a-b253-3481619ea2cb",
   "metadata": {},
   "outputs": [],
   "source": [
    "Bk=np.load(\"bkr_z0.50.npz\")\n",
    "k=Bk['k']\n",
    "br=Bk['bkr']\n",
    "bkrm=Bk['bkrm'].T[0]"
   ]
  },
  {
   "cell_type": "code",
   "execution_count": 7,
   "id": "630fafb4-a65e-4c64-b718-7ead28b02366",
   "metadata": {},
   "outputs": [
    {
     "data": {
      "text/plain": [
       "((2600, 3), (2600, 922), (2600,))"
      ]
     },
     "execution_count": 7,
     "metadata": {},
     "output_type": "execute_result"
    }
   ],
   "source": [
    "k.shape,br.shape,bkrm.shape"
   ]
  },
  {
   "cell_type": "code",
   "execution_count": 8,
   "id": "9be8ecf8-7a59-44ac-bf5b-3680eeece09a",
   "metadata": {},
   "outputs": [
    {
     "data": {
      "text/plain": [
       "[<matplotlib.lines.Line2D at 0x155518f1e190>]"
      ]
     },
     "execution_count": 8,
     "metadata": {},
     "output_type": "execute_result"
    },
    {
     "data": {
      "image/png": "[encoded data removed]",
      "text/plain": [
       "<Figure size 432x288 with 1 Axes>"
      ]
     },
     "metadata": {
      "needs_background": "light"
     },
     "output_type": "display_data"
    }
   ],
   "source": [
    "plt.plot(bkrm)"
   ]
  },
  {
   "cell_type": "markdown",
   "id": "b4a0b7ed-124a-4b13-af36-bc023017804b",
   "metadata": {},
   "source": [
    "#### Removing folded triplets"
   ]
  },
  {
   "cell_type": "code",
   "execution_count": 36,
   "id": "2f65a06f-7f28-4694-93b4-331c4fa908a0",
   "metadata": {},
   "outputs": [],
   "source": [
    "folded=[i for i in range(len(k)) if k[i,0]+k[i,1]<=round(k[i,2]+0.015,4)]"
   ]
  },
  {
   "cell_type": "code",
   "execution_count": 37,
   "id": "ee39a41a-7cd4-4d27-9eb2-b5fffc665e26",
   "metadata": {},
   "outputs": [
    {
     "data": {
      "text/plain": [
       "array([[0.005, 0.005, 0.005],\n",
       "       [0.005, 0.015, 0.015],\n",
       "       [0.005, 0.025, 0.025],\n",
       "       ...,\n",
       "       [0.145, 0.155, 0.295],\n",
       "       [0.145, 0.165, 0.295],\n",
       "       [0.155, 0.155, 0.295]])"
      ]
     },
     "execution_count": 37,
     "metadata": {},
     "output_type": "execute_result"
    }
   ],
   "source": [
    "k[folded]"
   ]
  },
  {
   "cell_type": "code",
   "execution_count": 38,
   "id": "390ce861-7738-4e3d-9d8e-4b850b9783d0",
   "metadata": {},
   "outputs": [],
   "source": [
    "k=np.delete(k,folded,0)\n",
    "br=np.delete(br,folded,0)\n",
    "bkrm=np.delete(bkrm,folded,0)"
   ]
  },
  {
   "cell_type": "code",
   "execution_count": 39,
   "id": "8c756c32-6216-4175-b55d-68a545488e37",
   "metadata": {},
   "outputs": [
    {
     "data": {
      "text/plain": [
       "((2158, 3), (2158, 957), (2158,))"
      ]
     },
     "execution_count": 39,
     "metadata": {},
     "output_type": "execute_result"
    }
   ],
   "source": [
    "k.shape,br.shape,bkrm.shape"
   ]
  },
  {
   "cell_type": "code",
   "execution_count": 9,
   "id": "14915b69-fa76-4eda-b300-15f40514aa5c",
   "metadata": {},
   "outputs": [
    {
     "data": {
      "text/plain": [
       "array([[0.015, 0.135, 0.135],\n",
       "       [0.015, 0.195, 0.195],\n",
       "       [0.015, 0.275, 0.275],\n",
       "       ...,\n",
       "       [0.285, 0.285, 0.295],\n",
       "       [0.285, 0.295, 0.295],\n",
       "       [0.295, 0.295, 0.295]])"
      ]
     },
     "execution_count": 9,
     "metadata": {},
     "output_type": "execute_result"
    }
   ],
   "source": [
    "k"
   ]
  },
  {
   "cell_type": "markdown",
   "id": "c5ead196-e072-43ef-81c1-34d142dcca20",
   "metadata": {},
   "source": [
    "## Interpolation"
   ]
  },
  {
   "cell_type": "markdown",
   "id": "33199232-eef0-4760-b42f-5b763fb2d98e",
   "metadata": {},
   "source": [
    "#### 1. scipy.interpolate.RegularGridInterpolator"
   ]
  },
  {
   "cell_type": "code",
   "execution_count": 12,
   "id": "06538bcf-6a6b-4223-bad3-52a766665280",
   "metadata": {},
   "outputs": [],
   "source": [
    "k1=np.unique(k[:,0])\n",
    "k2=np.unique(k[:,1])\n",
    "k3=np.unique(k[:,2])\n",
    "\n",
    "kk1,kk2,kk3=np.meshgrid(k1,k2,k3)\n",
    "\n",
    "tup_Bk=[tuple(i) for i in k[:,0:3]]"
   ]
  },
  {
   "cell_type": "code",
   "execution_count": 16,
   "id": "7684b41b-e76c-42d1-a7ce-2c0ad9af0b08",
   "metadata": {},
   "outputs": [
    {
     "data": {
      "text/plain": [
       "((29,), (28,), (28,))"
      ]
     },
     "execution_count": 16,
     "metadata": {},
     "output_type": "execute_result"
    }
   ],
   "source": [
    "k1.shape,k2.shape,k3.shape"
   ]
  },
  {
   "cell_type": "code",
   "execution_count": 13,
   "id": "663c1352-e69a-467c-a443-a9a3c49da6a5",
   "metadata": {},
   "outputs": [
    {
     "ename": "IndexError",
     "evalue": "index 28 is out of bounds for axis 0 with size 28",
     "output_type": "error",
     "traceback": [
      "\u001b[0;31m---------------------------------------------------------------------------\u001b[0m",
      "\u001b[0;31mIndexError\u001b[0m                                Traceback (most recent call last)",
      "\u001b[0;32m/tmp/ipykernel_33245/761242650.py\u001b[0m in \u001b[0;36m<module>\u001b[0;34m\u001b[0m\n\u001b[1;32m      4\u001b[0m     \u001b[0;32mfor\u001b[0m \u001b[0mj\u001b[0m \u001b[0;32min\u001b[0m \u001b[0mrange\u001b[0m\u001b[0;34m(\u001b[0m\u001b[0mlen\u001b[0m\u001b[0;34m(\u001b[0m\u001b[0mk2\u001b[0m\u001b[0;34m)\u001b[0m\u001b[0;34m)\u001b[0m\u001b[0;34m:\u001b[0m\u001b[0;34m\u001b[0m\u001b[0;34m\u001b[0m\u001b[0m\n\u001b[1;32m      5\u001b[0m         \u001b[0;32mfor\u001b[0m \u001b[0ml\u001b[0m \u001b[0;32min\u001b[0m \u001b[0mrange\u001b[0m\u001b[0;34m(\u001b[0m\u001b[0mlen\u001b[0m\u001b[0;34m(\u001b[0m\u001b[0mk3\u001b[0m\u001b[0;34m)\u001b[0m\u001b[0;34m)\u001b[0m\u001b[0;34m:\u001b[0m\u001b[0;34m\u001b[0m\u001b[0;34m\u001b[0m\u001b[0m\n\u001b[0;32m----> 6\u001b[0;31m             \u001b[0mkkk\u001b[0m\u001b[0;34m=\u001b[0m\u001b[0;34m[\u001b[0m\u001b[0mi\u001b[0m \u001b[0;32mfor\u001b[0m \u001b[0mi\u001b[0m \u001b[0;32min\u001b[0m \u001b[0mpermutations\u001b[0m\u001b[0;34m(\u001b[0m\u001b[0;34m(\u001b[0m\u001b[0mkk1\u001b[0m\u001b[0;34m[\u001b[0m\u001b[0mi\u001b[0m\u001b[0;34m,\u001b[0m\u001b[0mj\u001b[0m\u001b[0;34m,\u001b[0m\u001b[0ml\u001b[0m\u001b[0;34m]\u001b[0m\u001b[0;34m,\u001b[0m\u001b[0mkk2\u001b[0m\u001b[0;34m[\u001b[0m\u001b[0mi\u001b[0m\u001b[0;34m,\u001b[0m\u001b[0mj\u001b[0m\u001b[0;34m,\u001b[0m\u001b[0ml\u001b[0m\u001b[0;34m]\u001b[0m\u001b[0;34m,\u001b[0m\u001b[0mkk3\u001b[0m\u001b[0;34m[\u001b[0m\u001b[0mi\u001b[0m\u001b[0;34m,\u001b[0m\u001b[0mj\u001b[0m\u001b[0;34m,\u001b[0m\u001b[0ml\u001b[0m\u001b[0;34m]\u001b[0m\u001b[0;34m)\u001b[0m\u001b[0;34m)\u001b[0m\u001b[0;34m]\u001b[0m\u001b[0;34m\u001b[0m\u001b[0;34m\u001b[0m\u001b[0m\n\u001b[0m\u001b[1;32m      7\u001b[0m             \u001b[0;32mif\u001b[0m \u001b[0many\u001b[0m\u001b[0;34m(\u001b[0m\u001b[0mset\u001b[0m\u001b[0;34m(\u001b[0m\u001b[0mkkk\u001b[0m\u001b[0;34m)\u001b[0m\u001b[0;34m.\u001b[0m\u001b[0mintersection\u001b[0m\u001b[0;34m(\u001b[0m\u001b[0mset\u001b[0m\u001b[0;34m(\u001b[0m\u001b[0mtup_Bk\u001b[0m\u001b[0;34m)\u001b[0m\u001b[0;34m)\u001b[0m\u001b[0;34m)\u001b[0m\u001b[0;34m:\u001b[0m\u001b[0;34m\u001b[0m\u001b[0;34m\u001b[0m\u001b[0m\n\u001b[1;32m      8\u001b[0m                 \u001b[0mind\u001b[0m\u001b[0;34m=\u001b[0m\u001b[0mtup_Bk\u001b[0m\u001b[0;34m.\u001b[0m\u001b[0mindex\u001b[0m\u001b[0;34m(\u001b[0m\u001b[0mlist\u001b[0m\u001b[0;34m(\u001b[0m\u001b[0mset\u001b[0m\u001b[0;34m(\u001b[0m\u001b[0mkkk\u001b[0m\u001b[0;34m)\u001b[0m\u001b[0;34m.\u001b[0m\u001b[0mintersection\u001b[0m\u001b[0;34m(\u001b[0m\u001b[0mset\u001b[0m\u001b[0;34m(\u001b[0m\u001b[0mtup_Bk\u001b[0m\u001b[0;34m)\u001b[0m\u001b[0;34m)\u001b[0m\u001b[0;34m)\u001b[0m\u001b[0;34m[\u001b[0m\u001b[0;36m0\u001b[0m\u001b[0;34m]\u001b[0m\u001b[0;34m)\u001b[0m\u001b[0;34m\u001b[0m\u001b[0;34m\u001b[0m\u001b[0m\n",
      "\u001b[0;31mIndexError\u001b[0m: index 28 is out of bounds for axis 0 with size 28"
     ]
    }
   ],
   "source": [
    "output = np.empty(shape=(len(k1),len(k2),len(k3)))\n",
    "\n",
    "for i in range(len(k1)):\n",
    "    for j in range(len(k2)):\n",
    "        for l in range(len(k3)):\n",
    "            kkk=[i for i in permutations((kk1[i,j,l],kk2[i,j,l],kk3[i,j,l]))]\n",
    "            if any(set(kkk).intersection(set(tup_Bk))):\n",
    "                ind=tup_Bk.index(list(set(kkk).intersection(set(tup_Bk)))[0])\n",
    "                output[i,j,l]=bkrm[ind]\n",
    "            else:\n",
    "                output[i,j,l]=np.nan                "
   ]
  },
  {
   "cell_type": "code",
   "execution_count": null,
   "id": "7bdf4f7e-9970-4db1-864f-4a20b08b4463",
   "metadata": {},
   "outputs": [],
   "source": [
    "print(output[:2,:2,:2])"
   ]
  },
  {
   "cell_type": "markdown",
   "id": "c20a4c70-72ec-4139-aa51-62900ba5a862",
   "metadata": {},
   "source": [
    "#### Interpolating the above 3d matrix(output) in itself so that the nan values (at positions where bk doesn't exist) gets filled. This is done only for the 3d interpolation purpose. The k-values at those positions won't be considered later anyway. "
   ]
  },
  {
   "cell_type": "code",
   "execution_count": 44,
   "id": "b016f5dd-aff9-4c3f-92d5-c22713e1ac74",
   "metadata": {},
   "outputs": [],
   "source": [
    "output_fillnan=output.flatten()\n",
    "output_fillnan=pd.DataFrame(output_fillnan)\n",
    "output_fillnan=output_fillnan.interpolate(method='linear', limit_direction='forward', axis=0)"
   ]
  },
  {
   "cell_type": "code",
   "execution_count": 45,
   "id": "40224a44-0a0a-4bd8-8908-7cfb8152e490",
   "metadata": {},
   "outputs": [],
   "source": [
    "output_fillnan=np.array(output_fillnan)\n",
    "output_fillnan=np.reshape(output_fillnan,(len(k1),len(k2),len(k3)))"
   ]
  },
  {
   "cell_type": "code",
   "execution_count": 46,
   "id": "3a54013f-6042-4d4e-9ad3-40255dbc20a7",
   "metadata": {},
   "outputs": [
    {
     "data": {
      "text/plain": [
       "array([[[1.26593753, 1.25934658],\n",
       "        [1.06820882, 1.06161787]],\n",
       "\n",
       "       [[1.0288754 , 1.06161787],\n",
       "        [1.06161787, 0.90241874]]])"
      ]
     },
     "execution_count": 46,
     "metadata": {},
     "output_type": "execute_result"
    }
   ],
   "source": [
    "output_fillnan[:2,:2,:2]"
   ]
  },
  {
   "cell_type": "code",
   "execution_count": 47,
   "id": "699aa01d-a495-4247-8a3f-3c9e3b7d5e7c",
   "metadata": {},
   "outputs": [],
   "source": [
    "ffb=rgi((k1,k2,k3),output_fillnan,method=\"linear\",bounds_error=False,fill_value=None)\n",
    "#plt.plot(ff((kg[:,0],kg[:,1],kg[:,2])))\n",
    "#plt.plot(bg)"
   ]
  },
  {
   "cell_type": "code",
   "execution_count": 50,
   "id": "b4e91bc9-b2af-47db-8eb3-2f78d6ca73e7",
   "metadata": {},
   "outputs": [
    {
     "data": {
      "text/plain": [
       "[<matplotlib.lines.Line2D at 0x155517470430>]"
      ]
     },
     "execution_count": 50,
     "metadata": {},
     "output_type": "execute_result"
    },
    {
     "data": {
      "image/png": "[encoded data removed]",
      "text/plain": [
       "<Figure size 432x288 with 1 Axes>"
      ]
     },
     "metadata": {
      "needs_background": "light"
     },
     "output_type": "display_data"
    }
   ],
   "source": [
    "plt.plot(ffb((k))/bkrm)\n",
    "#plt.plot(bkrm)"
   ]
  },
  {
   "cell_type": "markdown",
   "id": "9c7d5aca-29f7-490c-96d0-e08a8765dcf3",
   "metadata": {},
   "source": [
    "#### 2. scipy.interpolate.LinearNDInterpolator"
   ]
  },
  {
   "cell_type": "code",
   "execution_count": 34,
   "id": "abade64b-9778-4c4d-87f5-bc78cd358e58",
   "metadata": {},
   "outputs": [],
   "source": [
    "ffb = lndi(k, bkrm)"
   ]
  },
  {
   "cell_type": "code",
   "execution_count": 35,
   "id": "6ba7aefa-6196-4fc2-8880-7663e9406b88",
   "metadata": {},
   "outputs": [
    {
     "data": {
      "text/plain": [
       "[<matplotlib.lines.Line2D at 0x155517c19c70>]"
      ]
     },
     "execution_count": 35,
     "metadata": {},
     "output_type": "execute_result"
    },
    {
     "data": {
      "image/png": "[encoded data removed]",
      "text/plain": [
       "<Figure size 432x288 with 1 Axes>"
      ]
     },
     "metadata": {
      "needs_background": "light"
     },
     "output_type": "display_data"
    }
   ],
   "source": [
    "plt.plot(ffb((0.98*k))/bkrm)\n"
   ]
  },
  {
   "cell_type": "markdown",
   "id": "6f86d592-fca1-48a6-b228-035f4413237b",
   "metadata": {},
   "source": [
    "### Masking/Slicing"
   ]
  },
  {
   "cell_type": "code",
   "execution_count": 40,
   "id": "8749dade-8873-4a63-9e86-9fb0e4873880",
   "metadata": {},
   "outputs": [],
   "source": [
    "def cutslice(kmin,kmax):\n",
    "    is_good = np.ones(k.shape[0], '?')\n",
    "    for i in range(3):is_good &= (k[:, i] > kmin) & (k[:, i] < kmax)\n",
    "    kg = k[is_good, :]\n",
    "    bg = bkrm[is_good]\n",
    "    nbins, nmocks = br[is_good, :].shape\n",
    "    hartlapf = (nmocks-1.0)/(nmocks-nbins-2.0)\n",
    "    cov = np.cov(br[is_good, :], rowvar=True)*hartlapf/ nmocks\n",
    "    icov = inv(cov)\n",
    "    print(f'kmax={kmax}, kmin={kmin}, nbins={nbins}, nmocks={nmocks}, hf = {hartlapf} , det_cov = {det(cov)}')\n",
    "    return kg,bg,cov,hartlapf"
   ]
  },
  {
   "cell_type": "code",
   "execution_count": 68,
   "id": "0c56c715-bc53-4c32-8837-bf7836889080",
   "metadata": {},
   "outputs": [
    {
     "name": "stdout",
     "output_type": "stream",
     "text": [
      "kmax=0.295, kmin=0.005, nbins=1749, nmocks=957, hf = -1.2040302267002518 , det_cov = -0.0\n",
      "kmax=0.285, kmin=0.005, nbins=1566, nmocks=957, hf = -1.5646481178396072 , det_cov = -0.0\n",
      "kmax=0.275, kmin=0.005, nbins=1394, nmocks=957, hf = -2.1776765375854215 , det_cov = -0.0\n",
      "kmax=0.265, kmin=0.005, nbins=1232, nmocks=957, hf = -3.4512635379061374 , det_cov = -0.0\n",
      "kmax=0.255, kmin=0.005, nbins=1088, nmocks=957, hf = -7.18796992481203 , det_cov = -0.0\n",
      "kmax=0.245, kmin=0.005, nbins=956, nmocks=957, hf = -956.0 , det_cov = 0.0\n",
      "kmax=0.235, kmin=0.005, nbins=835, nmocks=957, hf = 7.966666666666667 , det_cov = 0.0\n",
      "kmax=0.225, kmin=0.005, nbins=725, nmocks=957, hf = 4.156521739130435 , det_cov = 0.0\n",
      "kmax=0.215, kmin=0.005, nbins=625, nmocks=957, hf = 2.896969696969697 , det_cov = 0.0\n",
      "kmax=0.205, kmin=0.005, nbins=535, nmocks=957, hf = 2.276190476190476 , det_cov = 0.0\n",
      "kmax=0.195, kmin=0.005, nbins=453, nmocks=957, hf = 1.904382470119522 , det_cov = 0.0\n",
      "kmax=0.185, kmin=0.005, nbins=377, nmocks=957, hf = 1.6539792387543253 , det_cov = 0.0\n",
      "kmax=0.175, kmin=0.005, nbins=313, nmocks=957, hf = 1.4890965732087227 , det_cov = 0.0\n",
      "kmax=0.165, kmin=0.005, nbins=257, nmocks=957, hf = 1.3696275071633237 , det_cov = 0.0\n",
      "kmax=0.155, kmin=0.005, nbins=208, nmocks=957, hf = 1.2797858099062918 , det_cov = 0.0\n",
      "kmax=0.145, kmin=0.005, nbins=166, nmocks=957, hf = 1.211660329531052 , det_cov = 0.0\n",
      "kmax=0.135, kmin=0.005, nbins=130, nmocks=957, hf = 1.1587878787878787 , det_cov = 0.0\n",
      "kmax=0.125, kmin=0.005, nbins=98, nmocks=957, hf = 1.1155192532088682 , det_cov = 1.9932751064304148e-270\n",
      "kmax=0.115, kmin=0.005, nbins=73, nmocks=957, hf = 1.0839002267573696 , det_cov = 1.8117014794151265e-191\n",
      "kmax=0.105, kmin=0.005, nbins=53, nmocks=957, hf = 1.0598669623059866 , det_cov = 1.437337462474037e-130\n",
      "kmax=0.095, kmin=0.005, nbins=36, nmocks=957, hf = 1.0402611534276387 , det_cov = 2.7523037447775135e-81\n",
      "kmax=0.085, kmin=0.005, nbins=23, nmocks=957, hf = 1.0257510729613735 , det_cov = 7.525772148775262e-47\n",
      "kmax=0.075, kmin=0.005, nbins=14, nmocks=957, hf = 1.0159404888416579 , det_cov = 2.8982328130707195e-25\n",
      "kmax=0.065, kmin=0.005, nbins=8, nmocks=957, hf = 1.0095036958817318 , det_cov = 1.5743148982309498e-12\n",
      "kmax=0.055, kmin=0.005, nbins=4, nmocks=957, hf = 1.0052576235541535 , det_cov = 4.081713491004628e-05\n"
     ]
    }
   ],
   "source": [
    "hf=[]\n",
    "for j in reversed(np.unique(k[:,0])[3:]):\n",
    "    _,_,_,h=cutslice(0.005,j)\n",
    "    hf.append(h)"
   ]
  },
  {
   "cell_type": "code",
   "execution_count": 41,
   "id": "5fbd45de-ae91-44d8-8702-03313d58f19a",
   "metadata": {},
   "outputs": [
    {
     "name": "stdout",
     "output_type": "stream",
     "text": [
      "kmax=0.085, kmin=0.005, nbins=35, nmocks=957, hf = 1.0391304347826087 , det_cov = 2.0154419379248804e-75\n"
     ]
    }
   ],
   "source": [
    "kg,bg,cov,_=cutslice(0.005,0.085)"
   ]
  },
  {
   "cell_type": "markdown",
   "id": "6bf82947-e0a2-4f21-ab2f-f39955dcb073",
   "metadata": {},
   "source": [
    "## Chi-square test"
   ]
  },
  {
   "cell_type": "code",
   "execution_count": 42,
   "id": "009c4c52-1671-49c9-b311-8e243471fcb5",
   "metadata": {},
   "outputs": [],
   "source": [
    "def chisq(obs, exp, cov):\n",
    "    delta=obs-exp\n",
    "    cov_inv=inv(cov)\n",
    "    return delta.dot(cov_inv.dot(delta))"
   ]
  },
  {
   "cell_type": "code",
   "execution_count": 47,
   "id": "e9dcbe49-2e1f-4c37-b0fd-c0bf1614f775",
   "metadata": {},
   "outputs": [],
   "source": [
    "alp=np.arange(0.98,1.02,0.002)\n",
    "def chisq_alp(k,alp,cov):\n",
    "    error=[]\n",
    "    obs=ffb((k))\n",
    "    for i in alp:\n",
    "        exp=ffb((i*k))\n",
    "        #pos_nan=[math.isnan(i) for i in exp]\n",
    "        #print(k[pos_nan,:])\n",
    "        #print(round(i,10),\"\\t\",chisq(obs, exp, cov))\n",
    "        error.append((chisq(obs, exp, cov)))\n",
    "    return error"
   ]
  },
  {
   "cell_type": "code",
   "execution_count": 48,
   "id": "410d1ee9-239b-4c5f-9761-8f88c75aa9a3",
   "metadata": {},
   "outputs": [],
   "source": [
    "error=chisq_alp(kg,alp,cov)"
   ]
  },
  {
   "cell_type": "code",
   "execution_count": 49,
   "id": "553a7f55-2390-4271-8340-ddc7aa0140af",
   "metadata": {},
   "outputs": [],
   "source": [
    "lst=pd.DataFrame({\"alpha\":alp,\"chi2\":error})"
   ]
  },
  {
   "cell_type": "code",
   "execution_count": 50,
   "id": "b6938156-3428-463e-9d9d-ce9f836fcea6",
   "metadata": {},
   "outputs": [
    {
     "data": {
      "text/html": [
       "<div>\n",
       "<style scoped>\n",
       "    .dataframe tbody tr th:only-of-type {\n",
       "        vertical-align: middle;\n",
       "    }\n",
       "\n",
       "    .dataframe tbody tr th {\n",
       "        vertical-align: top;\n",
       "    }\n",
       "\n",
       "    .dataframe thead th {\n",
       "        text-align: right;\n",
       "    }\n",
       "</style>\n",
       "<table border=\"1\" class=\"dataframe\">\n",
       "  <thead>\n",
       "    <tr style=\"text-align: right;\">\n",
       "      <th></th>\n",
       "      <th>alpha</th>\n",
       "      <th>chi2</th>\n",
       "    </tr>\n",
       "  </thead>\n",
       "  <tbody>\n",
       "    <tr>\n",
       "      <th>0</th>\n",
       "      <td>0.980</td>\n",
       "      <td>0.363832</td>\n",
       "    </tr>\n",
       "    <tr>\n",
       "      <th>1</th>\n",
       "      <td>0.982</td>\n",
       "      <td>0.294704</td>\n",
       "    </tr>\n",
       "    <tr>\n",
       "      <th>2</th>\n",
       "      <td>0.984</td>\n",
       "      <td>0.232852</td>\n",
       "    </tr>\n",
       "    <tr>\n",
       "      <th>3</th>\n",
       "      <td>0.986</td>\n",
       "      <td>0.178277</td>\n",
       "    </tr>\n",
       "    <tr>\n",
       "      <th>4</th>\n",
       "      <td>0.988</td>\n",
       "      <td>0.130979</td>\n",
       "    </tr>\n",
       "    <tr>\n",
       "      <th>5</th>\n",
       "      <td>0.990</td>\n",
       "      <td>0.090958</td>\n",
       "    </tr>\n",
       "    <tr>\n",
       "      <th>6</th>\n",
       "      <td>0.992</td>\n",
       "      <td>0.058213</td>\n",
       "    </tr>\n",
       "    <tr>\n",
       "      <th>7</th>\n",
       "      <td>0.994</td>\n",
       "      <td>0.032745</td>\n",
       "    </tr>\n",
       "    <tr>\n",
       "      <th>8</th>\n",
       "      <td>0.996</td>\n",
       "      <td>0.014553</td>\n",
       "    </tr>\n",
       "    <tr>\n",
       "      <th>9</th>\n",
       "      <td>0.998</td>\n",
       "      <td>0.003638</td>\n",
       "    </tr>\n",
       "    <tr>\n",
       "      <th>10</th>\n",
       "      <td>1.000</td>\n",
       "      <td>0.000000</td>\n",
       "    </tr>\n",
       "    <tr>\n",
       "      <th>11</th>\n",
       "      <td>1.002</td>\n",
       "      <td>0.005812</td>\n",
       "    </tr>\n",
       "    <tr>\n",
       "      <th>12</th>\n",
       "      <td>1.004</td>\n",
       "      <td>0.023248</td>\n",
       "    </tr>\n",
       "    <tr>\n",
       "      <th>13</th>\n",
       "      <td>1.006</td>\n",
       "      <td>0.052308</td>\n",
       "    </tr>\n",
       "    <tr>\n",
       "      <th>14</th>\n",
       "      <td>1.008</td>\n",
       "      <td>0.092992</td>\n",
       "    </tr>\n",
       "    <tr>\n",
       "      <th>15</th>\n",
       "      <td>1.010</td>\n",
       "      <td>0.145300</td>\n",
       "    </tr>\n",
       "    <tr>\n",
       "      <th>16</th>\n",
       "      <td>1.012</td>\n",
       "      <td>0.209232</td>\n",
       "    </tr>\n",
       "    <tr>\n",
       "      <th>17</th>\n",
       "      <td>1.014</td>\n",
       "      <td>0.284788</td>\n",
       "    </tr>\n",
       "    <tr>\n",
       "      <th>18</th>\n",
       "      <td>1.016</td>\n",
       "      <td>0.371968</td>\n",
       "    </tr>\n",
       "    <tr>\n",
       "      <th>19</th>\n",
       "      <td>1.018</td>\n",
       "      <td>0.470772</td>\n",
       "    </tr>\n",
       "    <tr>\n",
       "      <th>20</th>\n",
       "      <td>1.020</td>\n",
       "      <td>0.581200</td>\n",
       "    </tr>\n",
       "  </tbody>\n",
       "</table>\n",
       "</div>"
      ],
      "text/plain": [
       "    alpha      chi2\n",
       "0   0.980  0.363832\n",
       "1   0.982  0.294704\n",
       "2   0.984  0.232852\n",
       "3   0.986  0.178277\n",
       "4   0.988  0.130979\n",
       "5   0.990  0.090958\n",
       "6   0.992  0.058213\n",
       "7   0.994  0.032745\n",
       "8   0.996  0.014553\n",
       "9   0.998  0.003638\n",
       "10  1.000  0.000000\n",
       "11  1.002  0.005812\n",
       "12  1.004  0.023248\n",
       "13  1.006  0.052308\n",
       "14  1.008  0.092992\n",
       "15  1.010  0.145300\n",
       "16  1.012  0.209232\n",
       "17  1.014  0.284788\n",
       "18  1.016  0.371968\n",
       "19  1.018  0.470772\n",
       "20  1.020  0.581200"
      ]
     },
     "execution_count": 50,
     "metadata": {},
     "output_type": "execute_result"
    }
   ],
   "source": [
    "lst"
   ]
  },
  {
   "cell_type": "code",
   "execution_count": 109,
   "id": "ab07aaa6-461a-4411-9743-777886a63c0e",
   "metadata": {},
   "outputs": [],
   "source": [
    "datap = np.load(\"../GLAM_Ps/pk_error.npz\")"
   ]
  },
  {
   "cell_type": "code",
   "execution_count": 111,
   "id": "47c9543b-2a32-4f00-b9c8-3e70602a1e2e",
   "metadata": {},
   "outputs": [
    {
     "data": {
      "text/plain": [
       "<matplotlib.legend.Legend at 0x155517a07580>"
      ]
     },
     "execution_count": 111,
     "metadata": {},
     "output_type": "execute_result"
    },
    {
     "data": {
      "image/png": "[encoded data removed]",
      "text/plain": [
       "<Figure size 432x288 with 1 Axes>"
      ]
     },
     "metadata": {
      "needs_background": "light"
     },
     "output_type": "display_data"
    }
   ],
   "source": [
    "#plt.plot(datap[\"alp\"],datap[\"error\"],\"-\",label=\"Pk\")\n",
    "plt.plot(alp,error,\"-\",label=\"Bk\")\n",
    "#plt.ylim(-0.025,1)\n",
    "#plt.xlim(0.985,1.015)\n",
    "plt.xlabel(r\"$\\alpha$\")\n",
    "plt.ylabel(r\"$\\chi^2$\")\n",
    "plt.legend()"
   ]
  },
  {
   "cell_type": "markdown",
   "id": "d3b691b8-cef9-43b6-9006-0532002f2039",
   "metadata": {},
   "source": [
    "### Plot chisq vs alpha for different kmax values"
   ]
  },
  {
   "cell_type": "code",
   "execution_count": 51,
   "id": "be179e9c-d9bd-454e-b1b0-f92ee264460d",
   "metadata": {},
   "outputs": [
    {
     "name": "stdout",
     "output_type": "stream",
     "text": [
      "kmax=0.195, kmin=0.005, nbins=531, nmocks=957, hf = 2.2547169811320753 , det_cov = 0.0\n",
      "0.185 0.00772816998058589\n",
      "kmax=0.175, kmin=0.005, nbins=378, nmocks=957, hf = 1.65684575389948 , det_cov = 0.0\n",
      "0.175 0.005979483800284038\n",
      "kmax=0.165, kmin=0.005, nbins=314, nmocks=957, hf = 1.4914196567862714 , det_cov = 0.0\n",
      "0.165 0.004770076246444533\n",
      "kmax=0.155, kmin=0.005, nbins=258, nmocks=957, hf = 1.3715925394548063 , det_cov = 0.0\n",
      "0.155 0.004028619319900829\n",
      "kmax=0.145, kmin=0.005, nbins=209, nmocks=957, hf = 1.2815013404825737 , det_cov = 0.0\n",
      "0.145 0.0024038045041445116\n",
      "kmax=0.135, kmin=0.005, nbins=164, nmocks=957, hf = 1.2085967130214919 , det_cov = 0.0\n",
      "0.135 0.0011750608854155758\n",
      "kmax=0.125, kmin=0.005, nbins=128, nmocks=957, hf = 1.1559854897218864 , det_cov = 0.0\n",
      "0.125 0.0008128279642198407\n",
      "kmax=0.115, kmin=0.005, nbins=98, nmocks=957, hf = 1.1155192532088682 , det_cov = 5.51238903582538e-264\n",
      "0.115 0.0004841545944023409\n",
      "kmax=0.105, kmin=0.005, nbins=72, nmocks=957, hf = 1.0826727066817667 , det_cov = 4.2320419875150675e-182\n",
      "0.105 0.000169832660824422\n",
      "kmax=0.095, kmin=0.005, nbins=51, nmocks=957, hf = 1.0575221238938053 , det_cov = 2.234856458510386e-119\n",
      "0.095 9.378912630959009e-05\n",
      "kmax=0.085, kmin=0.005, nbins=35, nmocks=957, hf = 1.0391304347826087 , det_cov = 2.0154419379248804e-75\n",
      "0.085 2.0506517864043023e-05\n",
      "kmax=0.075, kmin=0.005, nbins=23, nmocks=957, hf = 1.0257510729613735 , det_cov = 6.46351701616795e-45\n",
      "0.075 4.142096123133971e-06\n",
      "kmax=0.065, kmin=0.005, nbins=14, nmocks=957, hf = 1.0159404888416579 , det_cov = 1.9717361544823967e-24\n",
      "0.065 1.6439184363602518e-06\n",
      "kmax=0.055, kmin=0.005, nbins=8, nmocks=957, hf = 1.0095036958817318 , det_cov = 2.7670708165840055e-12\n",
      "0.055 1.424289715781379e-06\n"
     ]
    }
   ],
   "source": [
    "alp=np.linspace(0.85,1.15,1000)\n",
    "\n",
    "kmin=0.005\n",
    "kmax_min=0.045\n",
    "kmax_max=0.2\n",
    "all_errors=[]\n",
    "all_kmax=[]\n",
    "for kmax in reversed(np.unique(k[:,0])):\n",
    "    if kmax>kmax_min and kmax<kmax_max:\n",
    "        ki,bki,covi,_=cutslice(kmin,kmax)\n",
    "        errori=chisq_alp(ki,alp,covi)\n",
    "        all_errors.append(errori)\n",
    "        all_kmax.append(kmax)\n",
    "        print(kmax,np.min(errori))"
   ]
  },
  {
   "cell_type": "code",
   "execution_count": 25,
   "id": "b9008f99-f1a4-4cee-abcc-7c021bf79ab2",
   "metadata": {},
   "outputs": [
    {
     "data": {
      "text/plain": [
       "Text(0.5, 0, 'alpha')"
      ]
     },
     "execution_count": 25,
     "metadata": {},
     "output_type": "execute_result"
    },
    {
     "data": {
      "image/png": "[encoded data removed]",
      "text/plain": [
       "<Figure size 432x288 with 1 Axes>"
      ]
     },
     "metadata": {
      "needs_background": "light"
     },
     "output_type": "display_data"
    }
   ],
   "source": [
    "alpha = np.geomspace(1,0.01,len(all_errors))\n",
    "for i,error in enumerate(all_errors):\n",
    "    plt.plot(alp,error,alpha=alpha[i],color = 'b')\n",
    "plt.ylabel(\"chisq\")\n",
    "plt.xlabel(\"alpha\")\n",
    "#plt.savefig(\"all_chisq.png\")"
   ]
  },
  {
   "cell_type": "markdown",
   "id": "1c26a230-4889-4741-b8a5-ba9c286b0eba",
   "metadata": {},
   "source": [
    "### 1sigma constriant vs kmax\n",
    "\n",
    "Find 1sigma confidence interval (of chisq vs alpha plot) for different kmax."
   ]
  },
  {
   "cell_type": "code",
   "execution_count": 26,
   "id": "c903b01e-7328-41cc-99b3-79d2d7f28757",
   "metadata": {},
   "outputs": [],
   "source": [
    "def find_1sigma(error,llim,rlim):\n",
    "    least=np.min(error)\n",
    "    #print(least)\n",
    "    ffe=interpolate.interp1d(alp,error,fill_value=\"extrapolate\")\n",
    "    alp2=np.linspace(0.85,1.15,2000000)\n",
    "    ind=np.where((ffe(alp2)<1+least+rlim) & (ffe(alp2)>1+least-llim))\n",
    "    print(ind)\n",
    "    left=ind[0][0]\n",
    "    right=ind[0][-1]\n",
    "    print(alp2[left]-alp2[right])\n",
    "    return alp2[right]-alp2[left]"
   ]
  },
  {
   "cell_type": "code",
   "execution_count": 27,
   "id": "22c3e52a-cea8-4131-9b0e-a2aa9d1821e5",
   "metadata": {},
   "outputs": [
    {
     "name": "stdout",
     "output_type": "stream",
     "text": [
      "(array([ 996025,  996026,  996027,  996028, 1006848, 1006849, 1006850,\n",
      "       1006851, 1006852, 1006853, 1006854, 1006855]),)\n",
      "-0.0016245008122505178\n",
      "(array([ 994986,  994987, 1007235, 1007236]),)\n",
      "-0.0018375009187503455\n",
      "(array([ 994487,  994488, 1007717, 1007718]),)\n",
      "-0.0019846509923253652\n",
      "(array([ 993955, 1009039, 1009040]),)\n",
      "-0.002262751131375529\n",
      "(array([1010451, 1010452]),)\n",
      "-1.5000007502763424e-07\n",
      "(array([ 990959, 1013209]),)\n",
      "-0.0033375016687509085\n",
      "(array([ 989582, 1017510]),)\n",
      "-0.004189202094600941\n",
      "(array([ 985678, 1020018]),)\n",
      "-0.005151002575501384\n",
      "(array([ 981009, 1025346]),)\n",
      "-0.006650553325276531\n",
      "(array([ 977496, 1037078, 1037079]),)\n",
      "-0.00893745446872718\n",
      "(array([ 961141,  961142, 1051409, 1051410, 1051411]),)\n",
      "-0.013540506770253424\n",
      "(array([ 924387,  924388,  924389,  924390, 1086433, 1086434, 1086435,\n",
      "       1086436]),)\n",
      "-0.024307362153681122\n",
      "(array([ 909413,  909414,  909415,  909416, 1177935, 1177936, 1177937,\n",
      "       1177938, 1177939, 1177940, 1177941, 1177942]),)\n",
      "-0.04027937013968508\n",
      "(array([ 820089,  820090,  820091,  820092,  820093,  820094,  820095,\n",
      "       1270017, 1270018, 1270019, 1270020, 1270021, 1270022, 1270023,\n",
      "       1270024, 1270025, 1270026, 1270027, 1270028]),)\n",
      "-0.06749088374544177\n",
      "(array([  34713,   34714,   34715,   34716,   34717,   34718,   34719,\n",
      "         34720,   34721,   34722,   34723,   34724,   34725,   34726,\n",
      "         34727,   34728,   34729,   34730,   34731,   34732,   34733,\n",
      "         34734,   34735,   34736,   34737,   34738,   34739,   34740,\n",
      "         34741,   34742,   34743,   34744,   34745,   34746,   34747,\n",
      "         34748,   34749,   34750,   34751,   34752,   34753,   34754,\n",
      "         34755,   34756,   34757,   34758,   34759,   34760,   34761,\n",
      "         34762,   34763,   34764,   34765,   34766,   34767,   34768,\n",
      "         34769,   34770,   34771,   34772,   34773,   34774,   34775,\n",
      "         34776,   34777,   34778,   34779,   34780,   34781,   34782,\n",
      "         34783,   34784,   34785,   34786,   34787,   34788,   34789,\n",
      "         34790,   34791,   34792,   34793,   34794,   34795,   34796,\n",
      "         34797,   34798,   34799,   34800,   34801,   34802,   34803,\n",
      "         34804,   34805,   34806,   34807,   34808,   34809,   34810,\n",
      "         34811,   34812,   34813,   34814,   34815,   34816,   34817,\n",
      "         34818,   34819,   34820,   34821,   34822,   34823, 1574542,\n",
      "       1574543, 1574544, 1574545, 1574546, 1574547, 1574548, 1574549,\n",
      "       1574550, 1574551, 1574552, 1574553, 1574554, 1574555, 1574556,\n",
      "       1574557, 1574558, 1574559, 1574560, 1574561, 1574562, 1574563,\n",
      "       1574564, 1574565, 1574566, 1574567]),)\n",
      "-0.2309782154891078\n"
     ]
    }
   ],
   "source": [
    "sigma=[]\n",
    "count=1\n",
    "for i in all_errors:\n",
    "    sigma.append(find_1sigma(i,0.001/count,0.001/count))\n",
    "    count=count+2"
   ]
  },
  {
   "cell_type": "code",
   "execution_count": 86,
   "id": "b409519a-3ae2-4f45-a411-fdd3342e84bd",
   "metadata": {},
   "outputs": [
    {
     "ename": "TypeError",
     "evalue": "unsupported operand type(s) for /: 'list' and 'int'",
     "output_type": "error",
     "traceback": [
      "\u001b[0;31m---------------------------------------------------------------------------\u001b[0m",
      "\u001b[0;31mTypeError\u001b[0m                                 Traceback (most recent call last)",
      "\u001b[0;32m/tmp/ipykernel_1854/1403404672.py\u001b[0m in \u001b[0;36m<module>\u001b[0;34m\u001b[0m\n\u001b[0;32m----> 1\u001b[0;31m \u001b[0mplt\u001b[0m\u001b[0;34m.\u001b[0m\u001b[0mplot\u001b[0m\u001b[0;34m(\u001b[0m\u001b[0mall_kmax\u001b[0m\u001b[0;34m,\u001b[0m\u001b[0msigma\u001b[0m\u001b[0;34m/\u001b[0m\u001b[0;36m2\u001b[0m\u001b[0;34m)\u001b[0m\u001b[0;34m\u001b[0m\u001b[0;34m\u001b[0m\u001b[0m\n\u001b[0m\u001b[1;32m      2\u001b[0m \u001b[0mplt\u001b[0m\u001b[0;34m.\u001b[0m\u001b[0mxlabel\u001b[0m\u001b[0;34m(\u001b[0m\u001b[0;34m\"kmax\"\u001b[0m\u001b[0;34m)\u001b[0m\u001b[0;34m\u001b[0m\u001b[0;34m\u001b[0m\u001b[0m\n\u001b[1;32m      3\u001b[0m \u001b[0mplt\u001b[0m\u001b[0;34m.\u001b[0m\u001b[0mylabel\u001b[0m\u001b[0;34m(\u001b[0m\u001b[0;34m\"1sigma_alpha\"\u001b[0m\u001b[0;34m)\u001b[0m\u001b[0;34m\u001b[0m\u001b[0;34m\u001b[0m\u001b[0m\n\u001b[1;32m      4\u001b[0m \u001b[0;31m#plt.savefig(\"1sigma_alpha_vs_kmax_covmat.png\")\u001b[0m\u001b[0;34m\u001b[0m\u001b[0;34m\u001b[0m\u001b[0m\n",
      "\u001b[0;31mTypeError\u001b[0m: unsupported operand type(s) for /: 'list' and 'int'"
     ]
    }
   ],
   "source": [
    "plt.plot(all_kmax,sigma/2)\n",
    "plt.xlabel(\"kmax\")\n",
    "plt.ylabel(\"1sigma_alpha\")\n",
    "#plt.savefig(\"1sigma_alpha_vs_kmax_covmat.png\")"
   ]
  },
  {
   "cell_type": "code",
   "execution_count": 276,
   "id": "948bdd9b-854b-4722-851c-18669ab055f8",
   "metadata": {},
   "outputs": [],
   "source": [
    "np.savez('bkk_1sigma.npz', kmax=all_kmax, sigmahf=sigmaf,sigma=sigma,hf=hf[10:25])\n"
   ]
  },
  {
   "cell_type": "code",
   "execution_count": 277,
   "id": "e4b81e2f-3eb6-4b7b-8d34-c9d61f4c242c",
   "metadata": {},
   "outputs": [],
   "source": [
    "datab = np.load('bkk_1sigma.npz')"
   ]
  },
  {
   "cell_type": "code",
   "execution_count": 279,
   "id": "0a4556a1-aa2a-4493-86ae-31dd8890407b",
   "metadata": {},
   "outputs": [],
   "source": [
    "df= pd.DataFrame.from_dict({item: datab[item] for item in datab.files}, orient='index')\n"
   ]
  },
  {
   "cell_type": "code",
   "execution_count": 280,
   "id": "70d3fd4f-8a27-401f-ade5-9039a12a7607",
   "metadata": {},
   "outputs": [
    {
     "data": {
      "text/html": [
       "<div>\n",
       "<style scoped>\n",
       "    .dataframe tbody tr th:only-of-type {\n",
       "        vertical-align: middle;\n",
       "    }\n",
       "\n",
       "    .dataframe tbody tr th {\n",
       "        vertical-align: top;\n",
       "    }\n",
       "\n",
       "    .dataframe thead th {\n",
       "        text-align: right;\n",
       "    }\n",
       "</style>\n",
       "<table border=\"1\" class=\"dataframe\">\n",
       "  <thead>\n",
       "    <tr style=\"text-align: right;\">\n",
       "      <th></th>\n",
       "      <th>kmax</th>\n",
       "      <th>sigmahf</th>\n",
       "      <th>sigma</th>\n",
       "      <th>hf</th>\n",
       "    </tr>\n",
       "  </thead>\n",
       "  <tbody>\n",
       "    <tr>\n",
       "      <th>0</th>\n",
       "      <td>0.195</td>\n",
       "      <td>0.002177</td>\n",
       "      <td>0.001083</td>\n",
       "      <td>4.111607</td>\n",
       "    </tr>\n",
       "    <tr>\n",
       "      <th>1</th>\n",
       "      <td>0.185</td>\n",
       "      <td>0.002415</td>\n",
       "      <td>0.001420</td>\n",
       "      <td>2.851393</td>\n",
       "    </tr>\n",
       "    <tr>\n",
       "      <th>2</th>\n",
       "      <td>0.175</td>\n",
       "      <td>0.002722</td>\n",
       "      <td>0.001833</td>\n",
       "      <td>2.235437</td>\n",
       "    </tr>\n",
       "    <tr>\n",
       "      <th>3</th>\n",
       "      <td>0.165</td>\n",
       "      <td>0.002967</td>\n",
       "      <td>0.002162</td>\n",
       "      <td>1.871951</td>\n",
       "    </tr>\n",
       "    <tr>\n",
       "      <th>4</th>\n",
       "      <td>0.155</td>\n",
       "      <td>0.003362</td>\n",
       "      <td>0.002625</td>\n",
       "      <td>1.635879</td>\n",
       "    </tr>\n",
       "    <tr>\n",
       "      <th>5</th>\n",
       "      <td>0.145</td>\n",
       "      <td>0.004098</td>\n",
       "      <td>0.003379</td>\n",
       "      <td>1.471246</td>\n",
       "    </tr>\n",
       "    <tr>\n",
       "      <th>6</th>\n",
       "      <td>0.135</td>\n",
       "      <td>0.004875</td>\n",
       "      <td>0.004190</td>\n",
       "      <td>1.352423</td>\n",
       "    </tr>\n",
       "    <tr>\n",
       "      <th>7</th>\n",
       "      <td>0.125</td>\n",
       "      <td>0.005738</td>\n",
       "      <td>0.005103</td>\n",
       "      <td>1.263374</td>\n",
       "    </tr>\n",
       "    <tr>\n",
       "      <th>8</th>\n",
       "      <td>0.115</td>\n",
       "      <td>0.007272</td>\n",
       "      <td>0.006643</td>\n",
       "      <td>1.196104</td>\n",
       "    </tr>\n",
       "    <tr>\n",
       "      <th>9</th>\n",
       "      <td>0.105</td>\n",
       "      <td>0.009296</td>\n",
       "      <td>0.008684</td>\n",
       "      <td>1.144099</td>\n",
       "    </tr>\n",
       "    <tr>\n",
       "      <th>10</th>\n",
       "      <td>0.095</td>\n",
       "      <td>0.013874</td>\n",
       "      <td>0.013191</td>\n",
       "      <td>1.104317</td>\n",
       "    </tr>\n",
       "    <tr>\n",
       "      <th>11</th>\n",
       "      <td>0.085</td>\n",
       "      <td>0.024527</td>\n",
       "      <td>0.023653</td>\n",
       "      <td>1.073427</td>\n",
       "    </tr>\n",
       "    <tr>\n",
       "      <th>12</th>\n",
       "      <td>0.075</td>\n",
       "      <td>0.040558</td>\n",
       "      <td>0.039501</td>\n",
       "      <td>1.050171</td>\n",
       "    </tr>\n",
       "    <tr>\n",
       "      <th>13</th>\n",
       "      <td>0.065</td>\n",
       "      <td>0.067087</td>\n",
       "      <td>0.065867</td>\n",
       "      <td>1.032511</td>\n",
       "    </tr>\n",
       "    <tr>\n",
       "      <th>14</th>\n",
       "      <td>0.055</td>\n",
       "      <td>0.219698</td>\n",
       "      <td>0.214419</td>\n",
       "      <td>1.019934</td>\n",
       "    </tr>\n",
       "  </tbody>\n",
       "</table>\n",
       "</div>"
      ],
      "text/plain": [
       "     kmax   sigmahf     sigma        hf\n",
       "0   0.195  0.002177  0.001083  4.111607\n",
       "1   0.185  0.002415  0.001420  2.851393\n",
       "2   0.175  0.002722  0.001833  2.235437\n",
       "3   0.165  0.002967  0.002162  1.871951\n",
       "4   0.155  0.003362  0.002625  1.635879\n",
       "5   0.145  0.004098  0.003379  1.471246\n",
       "6   0.135  0.004875  0.004190  1.352423\n",
       "7   0.125  0.005738  0.005103  1.263374\n",
       "8   0.115  0.007272  0.006643  1.196104\n",
       "9   0.105  0.009296  0.008684  1.144099\n",
       "10  0.095  0.013874  0.013191  1.104317\n",
       "11  0.085  0.024527  0.023653  1.073427\n",
       "12  0.075  0.040558  0.039501  1.050171\n",
       "13  0.065  0.067087  0.065867  1.032511\n",
       "14  0.055  0.219698  0.214419  1.019934"
      ]
     },
     "execution_count": 280,
     "metadata": {},
     "output_type": "execute_result"
    }
   ],
   "source": [
    "df.T"
   ]
  },
  {
   "cell_type": "code",
   "execution_count": null,
   "id": "b5587bba-6660-4b0f-b8b8-51607bb7d1fd",
   "metadata": {},
   "outputs": [],
   "source": []
  }
 ],
 "metadata": {
  "kernelspec": {
   "display_name": "NERSC Python",
   "language": "python",
   "name": "python3"
  },
  "language_info": {
   "codemirror_mode": {
    "name": "ipython",
    "version": 3
   },
   "file_extension": ".py",
   "mimetype": "text/x-python",
   "name": "python",
   "nbconvert_exporter": "python",
   "pygments_lexer": "ipython3",
   "version": "3.9.7"
  }
 },
 "nbformat": 4,
 "nbformat_minor": 5
}
