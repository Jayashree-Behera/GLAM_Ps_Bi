{
 "cells": [
  {
   "cell_type": "code",
   "execution_count": 1,
   "id": "1778dc20-c700-498f-9f54-be5b01e6d16e",
   "metadata": {},
   "outputs": [],
   "source": [
    "using HDF5"
   ]
  },
  {
   "cell_type": "code",
   "execution_count": 8,
   "id": "c0c6181c-72eb-4ebb-a4a8-f6b322f3238a",
   "metadata": {},
   "outputs": [
    {
     "data": {
      "text/plain": [
       "\"/global/project/projectdirs/desi/mocks/GLAM/JFE_files/Planck15_BAO/z0.5/Realizations100/\""
      ]
     },
     "execution_count": 8,
     "metadata": {},
     "output_type": "execute_result"
    }
   ],
   "source": [
    "function read_glam(filename)\n",
    "    jj = h5open(filename, \"r\") do file\n",
    "        read(file)\n",
    "    end\n",
    "    x = jj[\"X\"]\n",
    "    y = jj[\"Y\"]\n",
    "    z = jj[\"Z\"]\n",
    "    return x, y, z\n",
    "end\n",
    "\n",
    "# GLAM directory\n",
    "dir = \"/global/project/projectdirs/desi/mocks/GLAM/JFE_files/Planck15_BAO/z0.5/Realizations100/\""
   ]
  },
  {
   "cell_type": "code",
   "execution_count": 9,
   "id": "c14dcb61-f877-4842-a6dd-df2b93d8c49d",
   "metadata": {},
   "outputs": [
    {
     "data": {
      "text/plain": [
       "\"CatshortV.0114.0002.h5\""
      ]
     },
     "execution_count": 9,
     "metadata": {},
     "output_type": "execute_result"
    }
   ],
   "source": [
    "filename=\"CatshortV.0114.0002.h5\""
   ]
  },
  {
   "cell_type": "code",
   "execution_count": 10,
   "id": "293502d0-5cec-4b72-8031-0dbf7201eed1",
   "metadata": {},
   "outputs": [
    {
     "data": {
      "text/plain": [
       "(Float32[168.7632, 444.4019, 868.6721, 166.2584, 408.4697, 66.2218, 794.0237, 817.3441, 758.6073, 600.5332  …  434.2501, 221.2556, 311.6889, 99.7457, 986.6312, 165.1665, 464.1466, 267.5931, 112.9778, 947.069], Float32[3.8833, 3.6994, 3.9766, 5.3752, 5.7437, 6.5299, 8.6748, 10.9248, 12.2804, 16.5688  …  990.6697, 990.9271, 991.7994, 992.3113, 993.8911, 994.5776, 994.4052, 996.3619, 996.3907, 999.6848], Float32[0.0619, 0.1352, 999.8531, 999.9915, 0.102, 0.1645, 0.0831, 0.1088, 999.9896, 999.9326  …  999.8094, 999.854, 999.6293, 999.8442, 999.8014, 999.8132, 999.6212, 999.7208, 999.9308, 999.8723])"
      ]
     },
     "execution_count": 10,
     "metadata": {},
     "output_type": "execute_result"
    }
   ],
   "source": [
    "x, y, z = read_glam(string(dir,filename))"
   ]
  },
  {
   "cell_type": "code",
   "execution_count": null,
   "id": "c3de7885-0367-44e9-a42f-4f5e7d3deb59",
   "metadata": {},
   "outputs": [],
   "source": []
  },
  {
   "cell_type": "code",
   "execution_count": null,
   "id": "43b855a2-ffb9-4d06-b556-441847aec192",
   "metadata": {},
   "outputs": [],
   "source": []
  }
 ],
 "metadata": {
  "kernelspec": {
   "display_name": "Julia 1.6.0",
   "language": "julia",
   "name": "julia-1.6"
  },
  "language_info": {
   "file_extension": ".jl",
   "mimetype": "application/julia",
   "name": "julia",
   "version": "1.6.0"
  }
 },
 "nbformat": 4,
 "nbformat_minor": 5
}
